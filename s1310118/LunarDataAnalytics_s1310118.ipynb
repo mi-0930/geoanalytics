{
  "cells": [
    {
      "cell_type": "markdown",
      "metadata": {
        "id": "view-in-github",
        "colab_type": "text"
      },
      "source": [
        "<a href=\"https://colab.research.google.com/github/mi-0930/geoanalytics/blob/main/s1310118/LunarDataAnalytics_s1310118.ipynb\" target=\"_parent\"><img src=\"https://colab.research.google.com/assets/colab-badge.svg\" alt=\"Open In Colab\"/></a>"
      ]
    },
    {
      "cell_type": "markdown",
      "metadata": {
        "id": "BGU2dcnv6-2r"
      },
      "source": [
        "# Installing Necessary Ubuntu packages"
      ]
    },
    {
      "cell_type": "code",
      "execution_count": 1,
      "metadata": {
        "colab": {
          "base_uri": "https://localhost:8080/"
        },
        "id": "mCfMCrej7G8f",
        "outputId": "a383d415-6136-4a59-e71f-7886540558c3"
      },
      "outputs": [
        {
          "output_type": "stream",
          "name": "stdout",
          "text": [
            "\u001b[33m\r0% [Working]\u001b[0m\r            \rGet:1 https://cloud.r-project.org/bin/linux/ubuntu jammy-cran40/ InRelease [3,632 B]\n",
            "\u001b[33m\r0% [Waiting for headers] [Waiting for headers] [1 InRelease 3,632 B/3,632 B 100\u001b[0m\u001b[33m\r0% [Waiting for headers] [Waiting for headers] [Waiting for headers] [Waiting f\u001b[0m\r                                                                               \rGet:2 http://security.ubuntu.com/ubuntu jammy-security InRelease [129 kB]\n",
            "\r                                                                               \rHit:3 https://developer.download.nvidia.com/compute/cuda/repos/ubuntu2204/x86_64  InRelease\n",
            "Get:4 https://r2u.stat.illinois.edu/ubuntu jammy InRelease [6,555 B]\n",
            "Hit:5 http://archive.ubuntu.com/ubuntu jammy InRelease\n",
            "Get:6 http://archive.ubuntu.com/ubuntu jammy-updates InRelease [128 kB]\n",
            "Hit:7 https://ppa.launchpadcontent.net/deadsnakes/ppa/ubuntu jammy InRelease\n",
            "Hit:8 https://ppa.launchpadcontent.net/graphics-drivers/ppa/ubuntu jammy InRelease\n",
            "Hit:9 https://ppa.launchpadcontent.net/ubuntugis/ppa/ubuntu jammy InRelease\n",
            "Get:10 http://archive.ubuntu.com/ubuntu jammy-backports InRelease [127 kB]\n",
            "Get:11 https://r2u.stat.illinois.edu/ubuntu jammy/main all Packages [9,019 kB]\n",
            "Get:12 https://r2u.stat.illinois.edu/ubuntu jammy/main amd64 Packages [2,742 kB]\n",
            "Get:13 http://security.ubuntu.com/ubuntu jammy-security/universe amd64 Packages [1,246 kB]\n",
            "Get:14 http://security.ubuntu.com/ubuntu jammy-security/main amd64 Packages [2,984 kB]\n",
            "Get:15 http://archive.ubuntu.com/ubuntu jammy-updates/universe amd64 Packages [1,553 kB]\n",
            "Get:16 http://archive.ubuntu.com/ubuntu jammy-updates/main amd64 Packages [3,295 kB]\n",
            "Fetched 21.2 MB in 7s (3,024 kB/s)\n",
            "Reading package lists... Done\n",
            "Building dependency tree... Done\n",
            "Reading state information... Done\n",
            "35 packages can be upgraded. Run 'apt list --upgradable' to see them.\n",
            "\u001b[1;33mW: \u001b[0mSkipping acquire of configured file 'main/source/Sources' as repository 'https://r2u.stat.illinois.edu/ubuntu jammy InRelease' does not seem to provide it (sources.list entry misspelt?)\u001b[0m\n",
            "Reading package lists... Done\n",
            "Building dependency tree... Done\n",
            "Reading state information... Done\n",
            "The following additional packages will be installed:\n",
            "  binfmt-support fonts-dejavu-core fonts-dejavu-extra fonts-droid-fallback\n",
            "  fonts-font-awesome fonts-lato fonts-lyx fonts-noto-mono fonts-urw-base35\n",
            "  ghostscript libcdi0 libclang-cpp11 libdxflib3 libeccodes-data libeccodes0\n",
            "  libeckit0d libevdev2 libfftw3-double3 libgs9 libgs9-common libgsl27\n",
            "  libgslcblas0 libgudev-1.0-0 libidn12 libijs-0.35 libimagequant0 libinput-bin\n",
            "  libinput10 libjbig2dec0 liblbfgsb0 libllvm11 liblzf1 libmagics++-data\n",
            "  libmagplus3v5 libmd4c0 libmtdev1 libodc-0d libpfm4 libproj22 libqt5core5a\n",
            "  libqt5dbus5 libqt5gui5 libqt5network5 libqt5svg5 libqt5widgets5 libraqm0\n",
            "  librsync2 libterralib3 libwacom-bin libwacom-common libwacom9 libxcb-icccm4\n",
            "  libxcb-image0 libxcb-keysyms1 libxcb-render-util0 libxcb-util1\n",
            "  libxcb-xinerama0 libxcb-xinput0 libxcb-xkb1 libxkbcommon-x11-0 libxsimd-dev\n",
            "  libz3-4 libz3-dev llvm-11 llvm-11-dev llvm-11-linker-tools llvm-11-runtime\n",
            "  llvm-11-tools numba-doc poppler-data python-babel-localedata\n",
            "  python-matplotlib-data python-odf-doc python-odf-tools python-tables-data\n",
            "  python3-appdirs python3-asciitree python3-attr python3-babel python3-bcrypt\n",
            "  python3-beniget python3-blosc python3-bottleneck python3-brotli python3-bs4\n",
            "  python3-cdo python3-certifi python3-cftime python3-chardet python3-click\n",
            "  python3-cloudpickle python3-colorama python3-cycler python3-dask\n",
            "  python3-dateutil python3-decorator python3-defusedxml python3-distributed\n",
            "  python3-dropbox python3-et-xmlfile python3-fasteners python3-fonttools\n",
            "  python3-fs python3-fsspec python3-fusepy python3-gast python3-gdal\n",
            "  python3-h5netcdf python3-h5py-serial python3-heapdict python3-html5lib\n",
            "  python3-idna python3-iniconfig python3-jdcal python3-jinja2\n",
            "  python3-kiwisolver python3-libarchive-c python3-llvmlite python3-locket\n",
            "  python3-lxml python3-lz4 python3-matplotlib python3-monotonic python3-mpmath\n",
            "  python3-msgpack python3-nacl python3-netcdf4 python3-numba python3-numcodecs\n",
            "  python3-numexpr python3-numpy python3-odf python3-olefile python3-openpyxl\n",
            "  python3-packaging python3-pandas python3-pandas-lib python3-paramiko\n",
            "  python3-partd python3-pil python3-pil.imagetk python3-pip\n",
            "  python3-pkg-resources python3-pluggy python3-ply python3-psutil python3-py\n",
            "  python3-pygit2 python3-pygments python3-pytest python3-pythran\n",
            "  python3-requests python3-scipy python3-setuptools python3-sortedcontainers\n",
            "  python3-soupsieve python3-stone python3-sympy python3-tables\n",
            "  python3-tables-lib python3-tblib python3-toml python3-toolz python3-tornado\n",
            "  python3-tz python3-ufolib2 python3-unicodedata2 python3-urllib3\n",
            "  python3-webencodings python3-wheel python3-xarray python3-xlwt python3-yaml\n",
            "  python3-zarr python3-zict python3-zmq qt5-gtk-platformtheme\n",
            "  qttranslations5-l10n sphinx-rtd-theme-common unicode-data\n",
            "Suggested packages:\n",
            "  fonts-noto fonts-freefont-otf | fonts-freefont-ttf fonts-texgyre\n",
            "  libgdal-grass ghostscript-x libfftw3-bin libfftw3-dev gsl-ref-psdoc\n",
            "  | gsl-doc-pdf | gsl-doc-info | gsl-ref-html proj-bin\n",
            "  qt5-image-formats-plugins qtwayland5 libterralib-doc libxsimd-doc\n",
            "  llvm-11-doc poppler-utils fonts-japanese-mincho | fonts-ipafont-mincho\n",
            "  fonts-japanese-gothic | fonts-ipafont-gothic fonts-arphic-ukai\n",
            "  fonts-arphic-uming fonts-nanum python-attr-doc python-blosc-doc\n",
            "  python-bottleneck-doc python-cycler-doc ipython python-dask-doc\n",
            "  python3-bcolz python3-boto python3-graphviz python3-h5py python3-skimage\n",
            "  python3-sklearn python3-sqlalchemy python-fsspec-doc python-h5py-doc\n",
            "  python3-genshi python-jinja2-doc llvmlite-doc python-lxml-doc dvipng\n",
            "  fonts-staypuft gir1.2-gtk-3.0 inkscape ipython3 librsvg2-common\n",
            "  python-matplotlib-doc python3-cairocffi python3-gi-cairo python3-gobject\n",
            "  python3-pyqt5 python3-sip texlive-extra-utils texlive-latex-extra\n",
            "  python-mpmath-doc python3-gmpy2 python-nacl-doc nvidia-cuda-toolkit\n",
            "  www-browser python-numpy-doc python-pandas-doc python3-statsmodels\n",
            "  python3-gssapi python3-invoke python-pil-doc python-ply-doc\n",
            "  python-psutil-doc subversion python-pygit2-doc python-pygments-doc\n",
            "  ttf-bitstream-vera python3-openssl python3-socks python-requests-doc\n",
            "  python-scipy-doc python-setuptools-doc python-sortedcontainers-doc\n",
            "  texlive-fonts-extra python-sympy-doc python-tables-doc vitables\n",
            "  python-toolz-doc python3-pycurl python-tornado-doc python3-twisted\n",
            "  python-xarray-doc python3-cartopy python3-pydap python3-rasterio\n",
            "  python3-seaborn python3-xlrd python-xlrt-doc jupyter-notebook\n",
            "The following NEW packages will be installed:\n",
            "  binfmt-support cdo fonts-dejavu-core fonts-dejavu-extra fonts-droid-fallback\n",
            "  fonts-font-awesome fonts-lato fonts-lyx fonts-noto-mono fonts-urw-base35\n",
            "  gdal-bin ghostscript libcdi0 libclang-cpp11 libdxflib3 libeccodes-data\n",
            "  libeccodes0 libeckit0d libevdev2 libfftw3-double3 libgs9 libgs9-common\n",
            "  libgsl27 libgslcblas0 libgudev-1.0-0 libidn12 libijs-0.35 libimagequant0\n",
            "  libinput-bin libinput10 libjbig2dec0 liblbfgsb0 libllvm11 liblzf1\n",
            "  libmagics++-data libmagplus3v5 libmd4c0 libmtdev1 libodc-0d libpfm4\n",
            "  libproj22 libqt5core5a libqt5dbus5 libqt5gui5 libqt5network5 libqt5svg5\n",
            "  libqt5widgets5 libraqm0 librsync2 libterralib3 libwacom-bin libwacom-common\n",
            "  libwacom9 libxcb-icccm4 libxcb-image0 libxcb-keysyms1 libxcb-render-util0\n",
            "  libxcb-util1 libxcb-xinerama0 libxcb-xinput0 libxcb-xkb1 libxkbcommon-x11-0\n",
            "  libxsimd-dev libz3-4 libz3-dev llvm-11 llvm-11-dev llvm-11-linker-tools\n",
            "  llvm-11-runtime llvm-11-tools nco numba-doc poppler-data\n",
            "  python-babel-localedata python-matplotlib-data python-odf-doc\n",
            "  python-odf-tools python-tables-data python3-appdirs python3-asciitree\n",
            "  python3-attr python3-babel python3-bcrypt python3-beniget python3-blosc\n",
            "  python3-bottleneck python3-brotli python3-bs4 python3-cdo python3-certifi\n",
            "  python3-cftime python3-chardet python3-click python3-cloudpickle\n",
            "  python3-colorama python3-cycler python3-dask python3-dateutil\n",
            "  python3-decorator python3-defusedxml python3-distributed python3-dropbox\n",
            "  python3-et-xmlfile python3-fasteners python3-fonttools python3-fs\n",
            "  python3-fsspec python3-fusepy python3-gast python3-gdal python3-h5netcdf\n",
            "  python3-h5py-serial python3-heapdict python3-html5lib python3-idna\n",
            "  python3-iniconfig python3-jdcal python3-jinja2 python3-kiwisolver\n",
            "  python3-libarchive-c python3-llvmlite python3-locket python3-lxml\n",
            "  python3-lz4 python3-matplotlib python3-monotonic python3-mpmath\n",
            "  python3-msgpack python3-nacl python3-netcdf4 python3-numba python3-numcodecs\n",
            "  python3-numexpr python3-numpy python3-odf python3-olefile python3-openpyxl\n",
            "  python3-packaging python3-pandas python3-pandas-lib python3-paramiko\n",
            "  python3-partd python3-pil python3-pil.imagetk python3-pip python3-pluggy\n",
            "  python3-ply python3-psutil python3-py python3-pygit2 python3-pygments\n",
            "  python3-pytest python3-pythran python3-requests python3-scipy\n",
            "  python3-setuptools python3-sortedcontainers python3-soupsieve python3-stone\n",
            "  python3-sympy python3-tables python3-tables-lib python3-tblib python3-toml\n",
            "  python3-toolz python3-tornado python3-tz python3-ufolib2\n",
            "  python3-unicodedata2 python3-urllib3 python3-webencodings python3-wheel\n",
            "  python3-xarray python3-xlwt python3-yaml python3-zarr python3-zict\n",
            "  python3-zmq qt5-gtk-platformtheme qttranslations5-l10n\n",
            "  sphinx-rtd-theme-common unicode-data\n",
            "The following packages will be upgraded:\n",
            "  python3-pkg-resources\n",
            "1 upgraded, 182 newly installed, 0 to remove and 34 not upgraded.\n",
            "Need to get 244 MB of archives.\n",
            "After this operation, 1,184 MB of additional disk space will be used.\n",
            "Get:1 http://archive.ubuntu.com/ubuntu jammy/main amd64 fonts-droid-fallback all 1:6.0.1r16-1.1build1 [1,805 kB]\n",
            "Get:2 https://ppa.launchpadcontent.net/ubuntugis/ppa/ubuntu jammy/main amd64 python3-pkg-resources all 68.1.2-2~jammy3 [216 kB]\n",
            "Get:3 http://archive.ubuntu.com/ubuntu jammy/main amd64 fonts-lato all 2.0-2.1 [2,696 kB]\n",
            "Get:4 https://ppa.launchpadcontent.net/ubuntugis/ppa/ubuntu jammy/main amd64 python3-gdal amd64 3.8.4+dfsg-1~jammy0 [1,095 kB]\n",
            "Get:5 http://archive.ubuntu.com/ubuntu jammy-updates/universe amd64 libqt5core5a amd64 5.15.3+dfsg-2ubuntu0.2 [2,006 kB]\n",
            "Get:6 http://archive.ubuntu.com/ubuntu jammy/main amd64 libevdev2 amd64 1.12.1+dfsg-1 [39.5 kB]\n",
            "Get:7 http://archive.ubuntu.com/ubuntu jammy/main amd64 libmtdev1 amd64 1.1.6-1build4 [14.5 kB]\n",
            "Get:8 http://archive.ubuntu.com/ubuntu jammy/main amd64 libgudev-1.0-0 amd64 1:237-2build1 [16.3 kB]\n",
            "Get:9 http://archive.ubuntu.com/ubuntu jammy/main amd64 libwacom-common all 2.2.0-1 [54.3 kB]\n",
            "Get:10 http://archive.ubuntu.com/ubuntu jammy/main amd64 libwacom9 amd64 2.2.0-1 [22.0 kB]\n",
            "Get:11 http://archive.ubuntu.com/ubuntu jammy-updates/main amd64 libinput-bin amd64 1.20.0-1ubuntu0.3 [19.9 kB]\n",
            "Get:12 http://archive.ubuntu.com/ubuntu jammy-updates/main amd64 libinput10 amd64 1.20.0-1ubuntu0.3 [131 kB]\n",
            "Get:13 http://archive.ubuntu.com/ubuntu jammy/universe amd64 libmd4c0 amd64 0.4.8-1 [42.0 kB]\n",
            "Get:14 http://archive.ubuntu.com/ubuntu jammy-updates/universe amd64 libqt5dbus5 amd64 5.15.3+dfsg-2ubuntu0.2 [222 kB]\n",
            "Get:15 http://archive.ubuntu.com/ubuntu jammy-updates/universe amd64 libqt5network5 amd64 5.15.3+dfsg-2ubuntu0.2 [731 kB]\n",
            "Get:16 http://archive.ubuntu.com/ubuntu jammy/main amd64 libxcb-icccm4 amd64 0.4.1-1.1build2 [11.5 kB]\n",
            "Get:17 http://archive.ubuntu.com/ubuntu jammy/main amd64 libxcb-util1 amd64 0.4.0-1build2 [11.4 kB]\n",
            "Get:18 http://archive.ubuntu.com/ubuntu jammy/main amd64 libxcb-image0 amd64 0.4.0-2 [11.5 kB]\n",
            "Get:19 http://archive.ubuntu.com/ubuntu jammy/main amd64 libxcb-keysyms1 amd64 0.4.0-1build3 [8,746 B]\n",
            "Get:20 http://archive.ubuntu.com/ubuntu jammy/main amd64 libxcb-render-util0 amd64 0.3.9-1build3 [10.3 kB]\n",
            "Get:21 http://archive.ubuntu.com/ubuntu jammy/main amd64 libxcb-xinerama0 amd64 1.14-3ubuntu3 [5,414 B]\n",
            "Get:22 http://archive.ubuntu.com/ubuntu jammy/main amd64 libxcb-xinput0 amd64 1.14-3ubuntu3 [34.3 kB]\n",
            "Get:23 http://archive.ubuntu.com/ubuntu jammy/main amd64 libxcb-xkb1 amd64 1.14-3ubuntu3 [32.8 kB]\n",
            "Get:24 http://archive.ubuntu.com/ubuntu jammy/main amd64 libxkbcommon-x11-0 amd64 1.4.0-1 [14.4 kB]\n",
            "Get:25 http://archive.ubuntu.com/ubuntu jammy-updates/universe amd64 libqt5gui5 amd64 5.15.3+dfsg-2ubuntu0.2 [3,722 kB]\n",
            "Get:26 http://archive.ubuntu.com/ubuntu jammy-updates/universe amd64 libqt5widgets5 amd64 5.15.3+dfsg-2ubuntu0.2 [2,561 kB]\n",
            "Get:27 http://archive.ubuntu.com/ubuntu jammy/universe amd64 libqt5svg5 amd64 5.15.3-1 [149 kB]\n",
            "Get:28 http://archive.ubuntu.com/ubuntu jammy/main amd64 poppler-data all 0.4.11-1 [2,171 kB]\n",
            "Get:29 http://archive.ubuntu.com/ubuntu jammy/main amd64 python3-yaml amd64 5.4.1-1ubuntu1 [129 kB]\n",
            "Get:30 http://archive.ubuntu.com/ubuntu jammy/main amd64 binfmt-support amd64 2.2.1-2 [55.8 kB]\n",
            "Get:31 http://archive.ubuntu.com/ubuntu jammy/universe amd64 libeccodes-data all 2.24.2-1 [1,592 kB]\n",
            "Get:32 http://archive.ubuntu.com/ubuntu jammy/universe amd64 libeccodes0 amd64 2.24.2-1 [614 kB]\n",
            "Get:33 http://archive.ubuntu.com/ubuntu jammy/universe amd64 libcdi0 amd64 2.0.4-1 [411 kB]\n",
            "Get:34 http://archive.ubuntu.com/ubuntu jammy/main amd64 libfftw3-double3 amd64 3.3.8-2ubuntu8 [770 kB]\n",
            "Get:35 http://archive.ubuntu.com/ubuntu jammy/universe amd64 libmagics++-data all 4.10.1-1 [41.8 MB]\n",
            "Get:36 https://ppa.launchpadcontent.net/ubuntugis/ppa/ubuntu jammy/main amd64 gdal-bin amd64 3.8.4+dfsg-1~jammy0 [605 kB]\n",
            "Get:37 http://archive.ubuntu.com/ubuntu jammy/main amd64 librsync2 amd64 2.3.2-1ubuntu1 [40.5 kB]\n",
            "Get:38 http://archive.ubuntu.com/ubuntu jammy/universe amd64 libeckit0d amd64 1.18.7-1 [1,306 kB]\n",
            "Get:39 http://archive.ubuntu.com/ubuntu jammy/universe amd64 libodc-0d amd64 1.4.4-1 [426 kB]\n",
            "Get:40 http://archive.ubuntu.com/ubuntu jammy/universe amd64 libproj22 amd64 8.2.1-1 [1,257 kB]\n",
            "Get:41 http://archive.ubuntu.com/ubuntu jammy/universe amd64 libdxflib3 amd64 3.26.4-1 [56.2 kB]\n",
            "Get:42 http://archive.ubuntu.com/ubuntu jammy/universe amd64 libterralib3 amd64 4.3.0+dfsg.2-12.1build2 [2,596 kB]\n",
            "Get:43 http://archive.ubuntu.com/ubuntu jammy/main amd64 fonts-dejavu-core all 2.37-2build1 [1,041 kB]\n",
            "Get:44 http://archive.ubuntu.com/ubuntu jammy/main amd64 fonts-dejavu-extra all 2.37-2build1 [2,041 kB]\n",
            "Get:45 http://archive.ubuntu.com/ubuntu jammy/main amd64 fonts-urw-base35 all 20200910-1 [6,367 kB]\n",
            "Get:46 http://archive.ubuntu.com/ubuntu jammy-updates/main amd64 libgs9-common all 9.55.0~dfsg1-0ubuntu5.11 [753 kB]\n",
            "Get:47 http://archive.ubuntu.com/ubuntu jammy-updates/main amd64 libidn12 amd64 1.38-4ubuntu1 [60.0 kB]\n",
            "Get:48 http://archive.ubuntu.com/ubuntu jammy/main amd64 libijs-0.35 amd64 0.35-15build2 [16.5 kB]\n",
            "Get:49 http://archive.ubuntu.com/ubuntu jammy/main amd64 libjbig2dec0 amd64 0.19-3build2 [64.7 kB]\n",
            "Get:50 http://archive.ubuntu.com/ubuntu jammy-updates/main amd64 libgs9 amd64 9.55.0~dfsg1-0ubuntu5.11 [5,031 kB]\n",
            "Get:51 http://archive.ubuntu.com/ubuntu jammy-updates/main amd64 ghostscript amd64 9.55.0~dfsg1-0ubuntu5.11 [49.4 kB]\n",
            "Get:52 http://archive.ubuntu.com/ubuntu jammy/universe amd64 libmagplus3v5 amd64 4.10.1-1 [2,619 kB]\n",
            "Get:53 http://archive.ubuntu.com/ubuntu jammy/universe amd64 cdo amd64 2.0.4-1 [2,419 kB]\n",
            "Get:54 http://archive.ubuntu.com/ubuntu jammy/main amd64 fonts-font-awesome all 5.0.10+really4.7.0~dfsg-4.1 [516 kB]\n",
            "Get:55 http://archive.ubuntu.com/ubuntu jammy/universe amd64 fonts-lyx all 2.3.6-1 [159 kB]\n",
            "Get:56 http://archive.ubuntu.com/ubuntu jammy/main amd64 fonts-noto-mono all 20201225-1build1 [397 kB]\n",
            "Get:57 http://archive.ubuntu.com/ubuntu jammy-updates/main amd64 python3-numpy amd64 1:1.21.5-1ubuntu22.04.1 [3,467 kB]\n",
            "Get:58 http://archive.ubuntu.com/ubuntu jammy/universe amd64 libllvm11 amd64 1:11.1.0-6 [19.6 MB]\n",
            "Get:59 https://ppa.launchpadcontent.net/ubuntugis/ppa/ubuntu jammy/main amd64 python3-setuptools all 68.1.2-2~jammy3 [465 kB]\n",
            "Get:60 http://archive.ubuntu.com/ubuntu jammy/universe amd64 libclang-cpp11 amd64 1:11.1.0-6 [10.5 MB]\n",
            "Get:61 http://archive.ubuntu.com/ubuntu jammy/universe amd64 libgslcblas0 amd64 2.7.1+dfsg-3 [94.4 kB]\n",
            "Get:62 http://archive.ubuntu.com/ubuntu jammy/universe amd64 libgsl27 amd64 2.7.1+dfsg-3 [1,000 kB]\n",
            "Get:63 http://archive.ubuntu.com/ubuntu jammy/main amd64 libimagequant0 amd64 2.17.0-1 [34.6 kB]\n",
            "Get:64 http://archive.ubuntu.com/ubuntu jammy/universe amd64 liblbfgsb0 amd64 3.0+dfsg.3-10 [29.9 kB]\n",
            "Get:65 http://archive.ubuntu.com/ubuntu jammy/universe amd64 liblzf1 amd64 3.6-3 [7,444 B]\n",
            "Get:66 http://archive.ubuntu.com/ubuntu jammy/main amd64 libraqm0 amd64 0.7.0-4ubuntu1 [11.7 kB]\n",
            "Get:67 http://archive.ubuntu.com/ubuntu jammy/main amd64 libwacom-bin amd64 2.2.0-1 [13.6 kB]\n",
            "Get:68 http://archive.ubuntu.com/ubuntu jammy/universe amd64 libxsimd-dev amd64 7.6.0-2 [108 kB]\n",
            "Get:69 http://archive.ubuntu.com/ubuntu jammy/universe amd64 llvm-11-runtime amd64 1:11.1.0-6 [186 kB]\n",
            "Get:70 http://archive.ubuntu.com/ubuntu jammy/universe amd64 llvm-11-linker-tools amd64 1:11.1.0-6 [1,275 kB]\n",
            "Get:71 http://archive.ubuntu.com/ubuntu jammy-updates/main amd64 libpfm4 amd64 4.11.1+git32-gd0b85fb-1ubuntu0.1 [345 kB]\n",
            "Get:72 http://archive.ubuntu.com/ubuntu jammy/universe amd64 llvm-11 amd64 1:11.1.0-6 [9,118 kB]\n",
            "Get:73 http://archive.ubuntu.com/ubuntu jammy-updates/main amd64 python3-pygments all 2.11.2+dfsg-2ubuntu0.1 [750 kB]\n",
            "Get:74 http://archive.ubuntu.com/ubuntu jammy/universe amd64 llvm-11-tools amd64 1:11.1.0-6 [359 kB]\n",
            "Get:75 http://archive.ubuntu.com/ubuntu jammy/universe amd64 libz3-4 amd64 4.8.12-1 [5,766 kB]\n",
            "Get:76 http://archive.ubuntu.com/ubuntu jammy/universe amd64 libz3-dev amd64 4.8.12-1 [72.2 kB]\n",
            "Get:77 http://archive.ubuntu.com/ubuntu jammy/universe amd64 llvm-11-dev amd64 1:11.1.0-6 [29.9 MB]\n",
            "Get:78 http://archive.ubuntu.com/ubuntu jammy/universe amd64 nco amd64 5.0.6-1 [1,891 kB]\n",
            "Get:79 http://archive.ubuntu.com/ubuntu jammy/main amd64 sphinx-rtd-theme-common all 1.0.0+dfsg-1 [991 kB]\n",
            "Get:80 http://archive.ubuntu.com/ubuntu jammy/universe amd64 numba-doc all 0.55.1-0ubuntu2 [737 kB]\n",
            "Get:81 http://archive.ubuntu.com/ubuntu jammy/main amd64 python-babel-localedata all 2.8.0+dfsg.1-7 [4,982 kB]\n",
            "Get:82 http://archive.ubuntu.com/ubuntu jammy/universe amd64 python-matplotlib-data all 3.5.1-2build1 [2,942 kB]\n",
            "Get:83 http://archive.ubuntu.com/ubuntu jammy/universe amd64 python-odf-doc all 1.4.2-1 [222 kB]\n",
            "Get:84 http://archive.ubuntu.com/ubuntu jammy/main amd64 python3-defusedxml all 0.7.1-1 [43.2 kB]\n",
            "Get:85 http://archive.ubuntu.com/ubuntu jammy/universe amd64 python3-odf all 1.4.2-1 [79.3 kB]\n",
            "Get:86 http://archive.ubuntu.com/ubuntu jammy/universe amd64 python-odf-tools all 1.4.2-1 [27.3 kB]\n",
            "Get:87 http://archive.ubuntu.com/ubuntu jammy/universe amd64 python-tables-data all 3.7.0-2build1 [47.6 kB]\n",
            "Get:88 http://archive.ubuntu.com/ubuntu jammy/main amd64 python3-appdirs all 1.4.4-2 [11.4 kB]\n",
            "Get:89 http://archive.ubuntu.com/ubuntu jammy/universe amd64 python3-asciitree all 0.3.3-3 [5,432 B]\n",
            "Get:90 http://archive.ubuntu.com/ubuntu jammy/main amd64 python3-attr all 21.2.0-1 [44.0 kB]\n",
            "Get:91 http://archive.ubuntu.com/ubuntu jammy-updates/main amd64 python3-tz all 2022.1-1ubuntu0.22.04.1 [30.7 kB]\n",
            "Get:92 http://archive.ubuntu.com/ubuntu jammy/main amd64 python3-babel all 2.8.0+dfsg.1-7 [85.1 kB]\n",
            "Get:93 http://archive.ubuntu.com/ubuntu jammy/universe amd64 python3-gast all 0.5.2-2 [9,394 B]\n",
            "Get:94 http://archive.ubuntu.com/ubuntu jammy/universe amd64 python3-beniget all 0.4.1-2 [9,904 B]\n",
            "Get:95 http://archive.ubuntu.com/ubuntu jammy/universe amd64 python3-blosc amd64 1.9.2+ds1-3build2 [29.3 kB]\n",
            "Get:96 http://archive.ubuntu.com/ubuntu jammy/universe amd64 python3-bottleneck amd64 1.3.2+ds1-2build1 [82.9 kB]\n",
            "Get:97 http://archive.ubuntu.com/ubuntu jammy/universe amd64 python3-brotli amd64 1.0.9-2build6 [319 kB]\n",
            "Get:98 http://archive.ubuntu.com/ubuntu jammy/main amd64 python3-soupsieve all 2.3.1-1 [33.0 kB]\n",
            "Get:99 http://archive.ubuntu.com/ubuntu jammy/main amd64 python3-bs4 all 4.10.0-2 [79.1 kB]\n",
            "Get:100 http://archive.ubuntu.com/ubuntu jammy/main amd64 python3-certifi all 2020.6.20-1 [150 kB]\n",
            "Get:101 http://archive.ubuntu.com/ubuntu jammy/universe amd64 python3-cftime amd64 1.5.2+ds-1build1 [174 kB]\n",
            "Get:102 http://archive.ubuntu.com/ubuntu jammy/main amd64 python3-chardet all 4.0.0-1 [98.0 kB]\n",
            "Get:103 http://archive.ubuntu.com/ubuntu jammy/main amd64 python3-colorama all 0.4.4-1 [24.5 kB]\n",
            "Get:104 http://archive.ubuntu.com/ubuntu jammy/main amd64 python3-click all 8.0.3-1 [78.3 kB]\n",
            "Get:105 http://archive.ubuntu.com/ubuntu jammy/universe amd64 python3-cloudpickle all 2.0.0-1 [24.5 kB]\n",
            "Get:106 http://archive.ubuntu.com/ubuntu jammy/universe amd64 python3-cycler all 0.11.0-1 [8,156 B]\n",
            "Get:107 http://archive.ubuntu.com/ubuntu jammy/universe amd64 python3-fsspec all 2022.01.0-1 [96.8 kB]\n",
            "Get:108 http://archive.ubuntu.com/ubuntu jammy/universe amd64 python3-toolz all 0.11.2-1 [44.7 kB]\n",
            "Get:109 http://archive.ubuntu.com/ubuntu jammy/main amd64 python3-packaging all 21.3-1 [30.7 kB]\n",
            "Get:110 http://archive.ubuntu.com/ubuntu jammy/universe amd64 python3-locket all 0.2.1-1 [5,390 B]\n",
            "Get:111 http://archive.ubuntu.com/ubuntu jammy/universe amd64 python3-partd all 1.2.0-1 [15.8 kB]\n",
            "Get:112 http://archive.ubuntu.com/ubuntu jammy/universe amd64 python3-dask all 2022.01.0+dfsg-1ubuntu1 [724 kB]\n",
            "Get:113 http://archive.ubuntu.com/ubuntu jammy/main amd64 python3-dateutil all 2.8.1-6 [78.4 kB]\n",
            "Get:114 http://archive.ubuntu.com/ubuntu jammy/main amd64 python3-decorator all 4.4.2-0ubuntu1 [10.3 kB]\n",
            "Get:115 http://archive.ubuntu.com/ubuntu jammy-updates/main amd64 python3-jinja2 all 3.0.3-1ubuntu0.4 [108 kB]\n",
            "Get:116 http://archive.ubuntu.com/ubuntu jammy/main amd64 python3-msgpack amd64 1.0.3-1build1 [67.8 kB]\n",
            "Get:117 http://archive.ubuntu.com/ubuntu jammy/main amd64 python3-psutil amd64 5.9.0-1build1 [158 kB]\n",
            "Get:118 http://archive.ubuntu.com/ubuntu jammy/main amd64 python3-sortedcontainers all 2.1.0-2 [27.3 kB]\n",
            "Get:119 http://archive.ubuntu.com/ubuntu jammy/universe amd64 python3-tblib all 1.7.0-2 [12.7 kB]\n",
            "Get:120 http://archive.ubuntu.com/ubuntu jammy/universe amd64 python3-tornado amd64 6.1.0-3build1 [287 kB]\n",
            "Get:121 http://archive.ubuntu.com/ubuntu jammy/universe amd64 python3-heapdict all 1.0.1-1 [5,324 B]\n",
            "Get:122 http://archive.ubuntu.com/ubuntu jammy/universe amd64 python3-zict all 2.0.0-1 [9,440 B]\n",
            "Get:123 http://archive.ubuntu.com/ubuntu jammy/universe amd64 python3-distributed all 2022.01.0+ds.1-1 [575 kB]\n",
            "Get:124 http://archive.ubuntu.com/ubuntu jammy-updates/main amd64 python3-idna all 3.3-1ubuntu0.1 [52.1 kB]\n",
            "Get:125 http://archive.ubuntu.com/ubuntu jammy-updates/main amd64 python3-urllib3 all 1.26.5-1~exp1ubuntu0.2 [98.3 kB]\n",
            "Get:126 http://archive.ubuntu.com/ubuntu jammy-updates/main amd64 python3-requests all 2.25.1+dfsg-2ubuntu0.1 [48.8 kB]\n",
            "Get:127 http://archive.ubuntu.com/ubuntu jammy/main amd64 python3-ply all 3.11-5 [47.5 kB]\n",
            "Get:128 http://archive.ubuntu.com/ubuntu jammy/universe amd64 python3-stone all 3.3.1-1 [119 kB]\n",
            "Get:129 http://archive.ubuntu.com/ubuntu jammy/universe amd64 python3-dropbox all 11.26.0-1 [405 kB]\n",
            "Get:130 http://archive.ubuntu.com/ubuntu jammy/universe amd64 python3-et-xmlfile all 1.0.1-2.1 [9,224 B]\n",
            "Get:131 http://archive.ubuntu.com/ubuntu jammy/main amd64 python3-monotonic all 1.6-2 [5,732 B]\n",
            "Get:132 http://archive.ubuntu.com/ubuntu jammy/main amd64 python3-fasteners all 0.14.1-2 [14.1 kB]\n",
            "Get:133 http://archive.ubuntu.com/ubuntu jammy/universe amd64 python3-pythran amd64 0.10.0+ds2-1 [423 kB]\n",
            "Get:134 http://archive.ubuntu.com/ubuntu jammy/universe amd64 python3-scipy amd64 1.8.0-1exp2ubuntu1 [14.7 MB]\n",
            "Get:135 http://archive.ubuntu.com/ubuntu jammy/universe amd64 python3-ufolib2 all 0.13.1+dfsg1-1 [32.2 kB]\n",
            "Get:136 http://archive.ubuntu.com/ubuntu jammy/universe amd64 python3-mpmath all 1.2.1-2 [419 kB]\n",
            "Get:137 http://archive.ubuntu.com/ubuntu jammy/universe amd64 python3-sympy all 1.9-1 [4,312 kB]\n",
            "Get:138 http://archive.ubuntu.com/ubuntu jammy/universe amd64 python3-fs all 2.4.12-1 [84.9 kB]\n",
            "Get:139 http://archive.ubuntu.com/ubuntu jammy/main amd64 python3-lxml amd64 4.8.0-1build1 [1,150 kB]\n",
            "Get:140 http://archive.ubuntu.com/ubuntu jammy/universe amd64 python3-lz4 amd64 3.1.3+dfsg-1build3 [33.3 kB]\n",
            "Get:141 http://archive.ubuntu.com/ubuntu jammy/universe amd64 python3-unicodedata2 amd64 14.0.0+ds-8 [376 kB]\n",
            "Get:142 http://archive.ubuntu.com/ubuntu jammy/universe amd64 unicode-data all 14.0.0-1.1 [8,206 kB]\n",
            "Get:143 http://archive.ubuntu.com/ubuntu jammy/universe amd64 python3-fonttools amd64 4.29.1-2build1 [810 kB]\n",
            "Get:144 http://archive.ubuntu.com/ubuntu jammy/universe amd64 python3-fusepy all 3.0.1-2 [11.3 kB]\n",
            "Get:145 http://archive.ubuntu.com/ubuntu jammy/universe amd64 python3-h5py-serial amd64 3.6.0-2build1 [872 kB]\n",
            "Get:146 http://archive.ubuntu.com/ubuntu jammy/universe amd64 python3-h5netcdf all 0.12.0-1 [19.3 kB]\n",
            "Get:147 http://archive.ubuntu.com/ubuntu jammy/main amd64 python3-webencodings all 0.5.1-4 [11.8 kB]\n",
            "Get:148 http://archive.ubuntu.com/ubuntu jammy/main amd64 python3-html5lib all 1.1-3 [87.0 kB]\n",
            "Get:149 http://archive.ubuntu.com/ubuntu jammy/universe amd64 python3-iniconfig all 1.1.1-2 [6,024 B]\n",
            "Get:150 http://archive.ubuntu.com/ubuntu jammy/universe amd64 python3-jdcal all 1.0-1.3 [7,944 B]\n",
            "Get:151 http://archive.ubuntu.com/ubuntu jammy/universe amd64 python3-kiwisolver amd64 1.3.2-1build1 [48.0 kB]\n",
            "Get:152 http://archive.ubuntu.com/ubuntu jammy/universe amd64 python3-llvmlite amd64 0.38.0-1 [126 kB]\n",
            "Get:153 http://archive.ubuntu.com/ubuntu jammy-updates/main amd64 python3-pil amd64 9.0.1-1ubuntu0.3 [419 kB]\n",
            "Get:154 http://archive.ubuntu.com/ubuntu jammy-updates/universe amd64 python3-pil.imagetk amd64 9.0.1-1ubuntu0.3 [9,616 B]\n",
            "Get:155 http://archive.ubuntu.com/ubuntu jammy/universe amd64 python3-matplotlib amd64 3.5.1-2build1 [5,937 kB]\n",
            "Get:156 http://archive.ubuntu.com/ubuntu jammy/main amd64 python3-nacl amd64 1.5.0-2 [63.1 kB]\n",
            "Get:157 http://archive.ubuntu.com/ubuntu jammy/universe amd64 python3-netcdf4 amd64 1.5.8-1build1 [449 kB]\n",
            "Get:158 http://archive.ubuntu.com/ubuntu jammy/universe amd64 python3-numba amd64 0.55.1-0ubuntu2 [1,588 kB]\n",
            "Get:159 http://archive.ubuntu.com/ubuntu jammy/universe amd64 python3-numcodecs amd64 0.9.1+ds-2build1 [268 kB]\n",
            "Get:160 http://archive.ubuntu.com/ubuntu jammy/universe amd64 python3-numexpr amd64 2.8.1-1build1 [86.0 kB]\n",
            "Get:161 http://archive.ubuntu.com/ubuntu jammy/main amd64 python3-olefile all 0.46-3 [33.8 kB]\n",
            "Get:162 http://archive.ubuntu.com/ubuntu jammy/universe amd64 python3-openpyxl all 3.0.9-1 [148 kB]\n",
            "Get:163 http://archive.ubuntu.com/ubuntu jammy/universe amd64 python3-pandas-lib amd64 1.3.5+dfsg-3 [3,735 kB]\n",
            "Get:164 http://archive.ubuntu.com/ubuntu jammy/universe amd64 python3-pandas all 1.3.5+dfsg-3 [2,680 kB]\n",
            "Get:165 http://archive.ubuntu.com/ubuntu jammy/main amd64 python3-bcrypt amd64 3.2.0-1build1 [32.7 kB]\n",
            "Get:166 http://archive.ubuntu.com/ubuntu jammy-updates/main amd64 python3-paramiko all 2.9.3-0ubuntu1.3 [134 kB]\n",
            "Get:167 http://archive.ubuntu.com/ubuntu jammy-updates/universe amd64 python3-wheel all 0.37.1-2ubuntu0.22.04.1 [32.0 kB]\n",
            "Get:168 http://archive.ubuntu.com/ubuntu jammy-updates/universe amd64 python3-pip all 22.0.2+dfsg-1ubuntu0.5 [1,306 kB]\n",
            "Get:169 http://archive.ubuntu.com/ubuntu jammy/universe amd64 python3-pluggy all 0.13.0-7.1 [19.0 kB]\n",
            "Get:170 http://archive.ubuntu.com/ubuntu jammy/universe amd64 python3-py all 1.10.0-1 [71.9 kB]\n",
            "Get:171 http://archive.ubuntu.com/ubuntu jammy/universe amd64 python3-pygit2 amd64 1.6.1+dfsg-2 [154 kB]\n",
            "Get:172 http://archive.ubuntu.com/ubuntu jammy/universe amd64 python3-toml all 0.10.2-1 [16.5 kB]\n",
            "Get:173 http://archive.ubuntu.com/ubuntu jammy/universe amd64 python3-pytest all 6.2.5-1ubuntu2 [214 kB]\n",
            "Get:174 http://archive.ubuntu.com/ubuntu jammy/universe amd64 python3-tables-lib amd64 3.7.0-2build1 [427 kB]\n",
            "Get:175 http://archive.ubuntu.com/ubuntu jammy/universe amd64 python3-tables all 3.7.0-2build1 [333 kB]\n",
            "Get:176 http://archive.ubuntu.com/ubuntu jammy/universe amd64 python3-xarray all 0.21.1-1 [575 kB]\n",
            "Get:177 http://archive.ubuntu.com/ubuntu jammy/universe amd64 python3-xlwt all 1.3.0-3 [83.7 kB]\n",
            "Get:178 http://archive.ubuntu.com/ubuntu jammy/universe amd64 python3-zarr all 2.10.3+ds-1 [260 kB]\n",
            "Get:179 http://archive.ubuntu.com/ubuntu jammy/universe amd64 python3-zmq amd64 22.3.0-1build1 [283 kB]\n",
            "Get:180 http://archive.ubuntu.com/ubuntu jammy-updates/universe amd64 qt5-gtk-platformtheme amd64 5.15.3+dfsg-2ubuntu0.2 [130 kB]\n",
            "Get:181 http://archive.ubuntu.com/ubuntu jammy/universe amd64 qttranslations5-l10n all 5.15.3-1 [1,983 kB]\n",
            "Get:182 http://archive.ubuntu.com/ubuntu jammy/universe amd64 python3-cdo amd64 1.5.6-1 [12.1 kB]\n",
            "Get:183 http://archive.ubuntu.com/ubuntu jammy/universe amd64 python3-libarchive-c all 2.9-0.1 [14.5 kB]\n",
            "Fetched 244 MB in 9s (28.1 MB/s)\n",
            "Extracting templates from packages: 100%\n",
            "Selecting previously unselected package fonts-droid-fallback.\n",
            "(Reading database ... 126111 files and directories currently installed.)\n",
            "Preparing to unpack .../000-fonts-droid-fallback_1%3a6.0.1r16-1.1build1_all.deb ...\n",
            "Unpacking fonts-droid-fallback (1:6.0.1r16-1.1build1) ...\n",
            "Selecting previously unselected package fonts-lato.\n",
            "Preparing to unpack .../001-fonts-lato_2.0-2.1_all.deb ...\n",
            "Unpacking fonts-lato (2.0-2.1) ...\n",
            "Selecting previously unselected package libqt5core5a:amd64.\n",
            "Preparing to unpack .../002-libqt5core5a_5.15.3+dfsg-2ubuntu0.2_amd64.deb ...\n",
            "Unpacking libqt5core5a:amd64 (5.15.3+dfsg-2ubuntu0.2) ...\n",
            "Selecting previously unselected package libevdev2:amd64.\n",
            "Preparing to unpack .../003-libevdev2_1.12.1+dfsg-1_amd64.deb ...\n",
            "Unpacking libevdev2:amd64 (1.12.1+dfsg-1) ...\n",
            "Selecting previously unselected package libmtdev1:amd64.\n",
            "Preparing to unpack .../004-libmtdev1_1.1.6-1build4_amd64.deb ...\n",
            "Unpacking libmtdev1:amd64 (1.1.6-1build4) ...\n",
            "Selecting previously unselected package libgudev-1.0-0:amd64.\n",
            "Preparing to unpack .../005-libgudev-1.0-0_1%3a237-2build1_amd64.deb ...\n",
            "Unpacking libgudev-1.0-0:amd64 (1:237-2build1) ...\n",
            "Selecting previously unselected package libwacom-common.\n",
            "Preparing to unpack .../006-libwacom-common_2.2.0-1_all.deb ...\n",
            "Unpacking libwacom-common (2.2.0-1) ...\n",
            "Selecting previously unselected package libwacom9:amd64.\n",
            "Preparing to unpack .../007-libwacom9_2.2.0-1_amd64.deb ...\n",
            "Unpacking libwacom9:amd64 (2.2.0-1) ...\n",
            "Selecting previously unselected package libinput-bin.\n",
            "Preparing to unpack .../008-libinput-bin_1.20.0-1ubuntu0.3_amd64.deb ...\n",
            "Unpacking libinput-bin (1.20.0-1ubuntu0.3) ...\n",
            "Selecting previously unselected package libinput10:amd64.\n",
            "Preparing to unpack .../009-libinput10_1.20.0-1ubuntu0.3_amd64.deb ...\n",
            "Unpacking libinput10:amd64 (1.20.0-1ubuntu0.3) ...\n",
            "Selecting previously unselected package libmd4c0:amd64.\n",
            "Preparing to unpack .../010-libmd4c0_0.4.8-1_amd64.deb ...\n",
            "Unpacking libmd4c0:amd64 (0.4.8-1) ...\n",
            "Selecting previously unselected package libqt5dbus5:amd64.\n",
            "Preparing to unpack .../011-libqt5dbus5_5.15.3+dfsg-2ubuntu0.2_amd64.deb ...\n",
            "Unpacking libqt5dbus5:amd64 (5.15.3+dfsg-2ubuntu0.2) ...\n",
            "Selecting previously unselected package libqt5network5:amd64.\n",
            "Preparing to unpack .../012-libqt5network5_5.15.3+dfsg-2ubuntu0.2_amd64.deb ...\n",
            "Unpacking libqt5network5:amd64 (5.15.3+dfsg-2ubuntu0.2) ...\n",
            "Selecting previously unselected package libxcb-icccm4:amd64.\n",
            "Preparing to unpack .../013-libxcb-icccm4_0.4.1-1.1build2_amd64.deb ...\n",
            "Unpacking libxcb-icccm4:amd64 (0.4.1-1.1build2) ...\n",
            "Selecting previously unselected package libxcb-util1:amd64.\n",
            "Preparing to unpack .../014-libxcb-util1_0.4.0-1build2_amd64.deb ...\n",
            "Unpacking libxcb-util1:amd64 (0.4.0-1build2) ...\n",
            "Selecting previously unselected package libxcb-image0:amd64.\n",
            "Preparing to unpack .../015-libxcb-image0_0.4.0-2_amd64.deb ...\n",
            "Unpacking libxcb-image0:amd64 (0.4.0-2) ...\n",
            "Selecting previously unselected package libxcb-keysyms1:amd64.\n",
            "Preparing to unpack .../016-libxcb-keysyms1_0.4.0-1build3_amd64.deb ...\n",
            "Unpacking libxcb-keysyms1:amd64 (0.4.0-1build3) ...\n",
            "Selecting previously unselected package libxcb-render-util0:amd64.\n",
            "Preparing to unpack .../017-libxcb-render-util0_0.3.9-1build3_amd64.deb ...\n",
            "Unpacking libxcb-render-util0:amd64 (0.3.9-1build3) ...\n",
            "Selecting previously unselected package libxcb-xinerama0:amd64.\n",
            "Preparing to unpack .../018-libxcb-xinerama0_1.14-3ubuntu3_amd64.deb ...\n",
            "Unpacking libxcb-xinerama0:amd64 (1.14-3ubuntu3) ...\n",
            "Selecting previously unselected package libxcb-xinput0:amd64.\n",
            "Preparing to unpack .../019-libxcb-xinput0_1.14-3ubuntu3_amd64.deb ...\n",
            "Unpacking libxcb-xinput0:amd64 (1.14-3ubuntu3) ...\n",
            "Selecting previously unselected package libxcb-xkb1:amd64.\n",
            "Preparing to unpack .../020-libxcb-xkb1_1.14-3ubuntu3_amd64.deb ...\n",
            "Unpacking libxcb-xkb1:amd64 (1.14-3ubuntu3) ...\n",
            "Selecting previously unselected package libxkbcommon-x11-0:amd64.\n",
            "Preparing to unpack .../021-libxkbcommon-x11-0_1.4.0-1_amd64.deb ...\n",
            "Unpacking libxkbcommon-x11-0:amd64 (1.4.0-1) ...\n",
            "Selecting previously unselected package libqt5gui5:amd64.\n",
            "Preparing to unpack .../022-libqt5gui5_5.15.3+dfsg-2ubuntu0.2_amd64.deb ...\n",
            "Unpacking libqt5gui5:amd64 (5.15.3+dfsg-2ubuntu0.2) ...\n",
            "Selecting previously unselected package libqt5widgets5:amd64.\n",
            "Preparing to unpack .../023-libqt5widgets5_5.15.3+dfsg-2ubuntu0.2_amd64.deb ...\n",
            "Unpacking libqt5widgets5:amd64 (5.15.3+dfsg-2ubuntu0.2) ...\n",
            "Selecting previously unselected package libqt5svg5:amd64.\n",
            "Preparing to unpack .../024-libqt5svg5_5.15.3-1_amd64.deb ...\n",
            "Unpacking libqt5svg5:amd64 (5.15.3-1) ...\n",
            "Selecting previously unselected package poppler-data.\n",
            "Preparing to unpack .../025-poppler-data_0.4.11-1_all.deb ...\n",
            "Unpacking poppler-data (0.4.11-1) ...\n",
            "Selecting previously unselected package python3-yaml.\n",
            "Preparing to unpack .../026-python3-yaml_5.4.1-1ubuntu1_amd64.deb ...\n",
            "Unpacking python3-yaml (5.4.1-1ubuntu1) ...\n",
            "Selecting previously unselected package binfmt-support.\n",
            "Preparing to unpack .../027-binfmt-support_2.2.1-2_amd64.deb ...\n",
            "Unpacking binfmt-support (2.2.1-2) ...\n",
            "Selecting previously unselected package libeccodes-data.\n",
            "Preparing to unpack .../028-libeccodes-data_2.24.2-1_all.deb ...\n",
            "Unpacking libeccodes-data (2.24.2-1) ...\n",
            "Selecting previously unselected package libeccodes0:amd64.\n",
            "Preparing to unpack .../029-libeccodes0_2.24.2-1_amd64.deb ...\n",
            "Unpacking libeccodes0:amd64 (2.24.2-1) ...\n",
            "Selecting previously unselected package libcdi0:amd64.\n",
            "Preparing to unpack .../030-libcdi0_2.0.4-1_amd64.deb ...\n",
            "Unpacking libcdi0:amd64 (2.0.4-1) ...\n",
            "Selecting previously unselected package libfftw3-double3:amd64.\n",
            "Preparing to unpack .../031-libfftw3-double3_3.3.8-2ubuntu8_amd64.deb ...\n",
            "Unpacking libfftw3-double3:amd64 (3.3.8-2ubuntu8) ...\n",
            "Selecting previously unselected package libmagics++-data.\n",
            "Preparing to unpack .../032-libmagics++-data_4.10.1-1_all.deb ...\n",
            "Unpacking libmagics++-data (4.10.1-1) ...\n",
            "Selecting previously unselected package librsync2:amd64.\n",
            "Preparing to unpack .../033-librsync2_2.3.2-1ubuntu1_amd64.deb ...\n",
            "Unpacking librsync2:amd64 (2.3.2-1ubuntu1) ...\n",
            "Selecting previously unselected package libeckit0d:amd64.\n",
            "Preparing to unpack .../034-libeckit0d_1.18.7-1_amd64.deb ...\n",
            "Unpacking libeckit0d:amd64 (1.18.7-1) ...\n",
            "Selecting previously unselected package libodc-0d:amd64.\n",
            "Preparing to unpack .../035-libodc-0d_1.4.4-1_amd64.deb ...\n",
            "Unpacking libodc-0d:amd64 (1.4.4-1) ...\n",
            "Selecting previously unselected package libproj22:amd64.\n",
            "Preparing to unpack .../036-libproj22_8.2.1-1_amd64.deb ...\n",
            "Unpacking libproj22:amd64 (8.2.1-1) ...\n",
            "Selecting previously unselected package libdxflib3:amd64.\n",
            "Preparing to unpack .../037-libdxflib3_3.26.4-1_amd64.deb ...\n",
            "Unpacking libdxflib3:amd64 (3.26.4-1) ...\n",
            "Selecting previously unselected package libterralib3:amd64.\n",
            "Preparing to unpack .../038-libterralib3_4.3.0+dfsg.2-12.1build2_amd64.deb ...\n",
            "Unpacking libterralib3:amd64 (4.3.0+dfsg.2-12.1build2) ...\n",
            "Selecting previously unselected package fonts-dejavu-core.\n",
            "Preparing to unpack .../039-fonts-dejavu-core_2.37-2build1_all.deb ...\n",
            "Unpacking fonts-dejavu-core (2.37-2build1) ...\n",
            "Selecting previously unselected package fonts-dejavu-extra.\n",
            "Preparing to unpack .../040-fonts-dejavu-extra_2.37-2build1_all.deb ...\n",
            "Unpacking fonts-dejavu-extra (2.37-2build1) ...\n",
            "Selecting previously unselected package fonts-urw-base35.\n",
            "Preparing to unpack .../041-fonts-urw-base35_20200910-1_all.deb ...\n",
            "Unpacking fonts-urw-base35 (20200910-1) ...\n",
            "Selecting previously unselected package libgs9-common.\n",
            "Preparing to unpack .../042-libgs9-common_9.55.0~dfsg1-0ubuntu5.11_all.deb ...\n",
            "Unpacking libgs9-common (9.55.0~dfsg1-0ubuntu5.11) ...\n",
            "Selecting previously unselected package libidn12:amd64.\n",
            "Preparing to unpack .../043-libidn12_1.38-4ubuntu1_amd64.deb ...\n",
            "Unpacking libidn12:amd64 (1.38-4ubuntu1) ...\n",
            "Selecting previously unselected package libijs-0.35:amd64.\n",
            "Preparing to unpack .../044-libijs-0.35_0.35-15build2_amd64.deb ...\n",
            "Unpacking libijs-0.35:amd64 (0.35-15build2) ...\n",
            "Selecting previously unselected package libjbig2dec0:amd64.\n",
            "Preparing to unpack .../045-libjbig2dec0_0.19-3build2_amd64.deb ...\n",
            "Unpacking libjbig2dec0:amd64 (0.19-3build2) ...\n",
            "Selecting previously unselected package libgs9:amd64.\n",
            "Preparing to unpack .../046-libgs9_9.55.0~dfsg1-0ubuntu5.11_amd64.deb ...\n",
            "Unpacking libgs9:amd64 (9.55.0~dfsg1-0ubuntu5.11) ...\n",
            "Selecting previously unselected package ghostscript.\n",
            "Preparing to unpack .../047-ghostscript_9.55.0~dfsg1-0ubuntu5.11_amd64.deb ...\n",
            "Unpacking ghostscript (9.55.0~dfsg1-0ubuntu5.11) ...\n",
            "Selecting previously unselected package libmagplus3v5:amd64.\n",
            "Preparing to unpack .../048-libmagplus3v5_4.10.1-1_amd64.deb ...\n",
            "Unpacking libmagplus3v5:amd64 (4.10.1-1) ...\n",
            "Selecting previously unselected package cdo.\n",
            "Preparing to unpack .../049-cdo_2.0.4-1_amd64.deb ...\n",
            "Unpacking cdo (2.0.4-1) ...\n",
            "Selecting previously unselected package fonts-font-awesome.\n",
            "Preparing to unpack .../050-fonts-font-awesome_5.0.10+really4.7.0~dfsg-4.1_all.deb ...\n",
            "Unpacking fonts-font-awesome (5.0.10+really4.7.0~dfsg-4.1) ...\n",
            "Selecting previously unselected package fonts-lyx.\n",
            "Preparing to unpack .../051-fonts-lyx_2.3.6-1_all.deb ...\n",
            "Unpacking fonts-lyx (2.3.6-1) ...\n",
            "Selecting previously unselected package fonts-noto-mono.\n",
            "Preparing to unpack .../052-fonts-noto-mono_20201225-1build1_all.deb ...\n",
            "Unpacking fonts-noto-mono (20201225-1build1) ...\n",
            "Preparing to unpack .../053-python3-pkg-resources_68.1.2-2~jammy3_all.deb ...\n",
            "Unpacking python3-pkg-resources (68.1.2-2~jammy3) over (59.6.0-1.2ubuntu0.22.04.3) ...\n",
            "Selecting previously unselected package python3-numpy.\n",
            "Preparing to unpack .../054-python3-numpy_1%3a1.21.5-1ubuntu22.04.1_amd64.deb ...\n",
            "Unpacking python3-numpy (1:1.21.5-1ubuntu22.04.1) ...\n",
            "Selecting previously unselected package python3-gdal.\n",
            "Preparing to unpack .../055-python3-gdal_3.8.4+dfsg-1~jammy0_amd64.deb ...\n",
            "Unpacking python3-gdal (3.8.4+dfsg-1~jammy0) ...\n",
            "Selecting previously unselected package gdal-bin.\n",
            "Preparing to unpack .../056-gdal-bin_3.8.4+dfsg-1~jammy0_amd64.deb ...\n",
            "Unpacking gdal-bin (3.8.4+dfsg-1~jammy0) ...\n",
            "Selecting previously unselected package libllvm11:amd64.\n",
            "Preparing to unpack .../057-libllvm11_1%3a11.1.0-6_amd64.deb ...\n",
            "Unpacking libllvm11:amd64 (1:11.1.0-6) ...\n",
            "Selecting previously unselected package libclang-cpp11.\n",
            "Preparing to unpack .../058-libclang-cpp11_1%3a11.1.0-6_amd64.deb ...\n",
            "Unpacking libclang-cpp11 (1:11.1.0-6) ...\n",
            "Selecting previously unselected package libgslcblas0:amd64.\n",
            "Preparing to unpack .../059-libgslcblas0_2.7.1+dfsg-3_amd64.deb ...\n",
            "Unpacking libgslcblas0:amd64 (2.7.1+dfsg-3) ...\n",
            "Selecting previously unselected package libgsl27:amd64.\n",
            "Preparing to unpack .../060-libgsl27_2.7.1+dfsg-3_amd64.deb ...\n",
            "Unpacking libgsl27:amd64 (2.7.1+dfsg-3) ...\n",
            "Selecting previously unselected package libimagequant0:amd64.\n",
            "Preparing to unpack .../061-libimagequant0_2.17.0-1_amd64.deb ...\n",
            "Unpacking libimagequant0:amd64 (2.17.0-1) ...\n",
            "Selecting previously unselected package liblbfgsb0:amd64.\n",
            "Preparing to unpack .../062-liblbfgsb0_3.0+dfsg.3-10_amd64.deb ...\n",
            "Unpacking liblbfgsb0:amd64 (3.0+dfsg.3-10) ...\n",
            "Selecting previously unselected package liblzf1:amd64.\n",
            "Preparing to unpack .../063-liblzf1_3.6-3_amd64.deb ...\n",
            "Unpacking liblzf1:amd64 (3.6-3) ...\n",
            "Selecting previously unselected package libraqm0:amd64.\n",
            "Preparing to unpack .../064-libraqm0_0.7.0-4ubuntu1_amd64.deb ...\n",
            "Unpacking libraqm0:amd64 (0.7.0-4ubuntu1) ...\n",
            "Selecting previously unselected package libwacom-bin.\n",
            "Preparing to unpack .../065-libwacom-bin_2.2.0-1_amd64.deb ...\n",
            "Unpacking libwacom-bin (2.2.0-1) ...\n",
            "Selecting previously unselected package libxsimd-dev:amd64.\n",
            "Preparing to unpack .../066-libxsimd-dev_7.6.0-2_amd64.deb ...\n",
            "Unpacking libxsimd-dev:amd64 (7.6.0-2) ...\n",
            "Selecting previously unselected package llvm-11-runtime.\n",
            "Preparing to unpack .../067-llvm-11-runtime_1%3a11.1.0-6_amd64.deb ...\n",
            "Unpacking llvm-11-runtime (1:11.1.0-6) ...\n",
            "Selecting previously unselected package llvm-11-linker-tools.\n",
            "Preparing to unpack .../068-llvm-11-linker-tools_1%3a11.1.0-6_amd64.deb ...\n",
            "Unpacking llvm-11-linker-tools (1:11.1.0-6) ...\n",
            "Selecting previously unselected package libpfm4:amd64.\n",
            "Preparing to unpack .../069-libpfm4_4.11.1+git32-gd0b85fb-1ubuntu0.1_amd64.deb ...\n",
            "Unpacking libpfm4:amd64 (4.11.1+git32-gd0b85fb-1ubuntu0.1) ...\n",
            "Selecting previously unselected package llvm-11.\n",
            "Preparing to unpack .../070-llvm-11_1%3a11.1.0-6_amd64.deb ...\n",
            "Unpacking llvm-11 (1:11.1.0-6) ...\n",
            "Selecting previously unselected package python3-pygments.\n",
            "Preparing to unpack .../071-python3-pygments_2.11.2+dfsg-2ubuntu0.1_all.deb ...\n",
            "Unpacking python3-pygments (2.11.2+dfsg-2ubuntu0.1) ...\n",
            "Selecting previously unselected package llvm-11-tools.\n",
            "Preparing to unpack .../072-llvm-11-tools_1%3a11.1.0-6_amd64.deb ...\n",
            "Unpacking llvm-11-tools (1:11.1.0-6) ...\n",
            "Selecting previously unselected package libz3-4:amd64.\n",
            "Preparing to unpack .../073-libz3-4_4.8.12-1_amd64.deb ...\n",
            "Unpacking libz3-4:amd64 (4.8.12-1) ...\n",
            "Selecting previously unselected package libz3-dev:amd64.\n",
            "Preparing to unpack .../074-libz3-dev_4.8.12-1_amd64.deb ...\n",
            "Unpacking libz3-dev:amd64 (4.8.12-1) ...\n",
            "Selecting previously unselected package llvm-11-dev.\n",
            "Preparing to unpack .../075-llvm-11-dev_1%3a11.1.0-6_amd64.deb ...\n",
            "Unpacking llvm-11-dev (1:11.1.0-6) ...\n",
            "Selecting previously unselected package nco.\n",
            "Preparing to unpack .../076-nco_5.0.6-1_amd64.deb ...\n",
            "Unpacking nco (5.0.6-1) ...\n",
            "Selecting previously unselected package sphinx-rtd-theme-common.\n",
            "Preparing to unpack .../077-sphinx-rtd-theme-common_1.0.0+dfsg-1_all.deb ...\n",
            "Unpacking sphinx-rtd-theme-common (1.0.0+dfsg-1) ...\n",
            "Selecting previously unselected package numba-doc.\n",
            "Preparing to unpack .../078-numba-doc_0.55.1-0ubuntu2_all.deb ...\n",
            "Unpacking numba-doc (0.55.1-0ubuntu2) ...\n",
            "Selecting previously unselected package python-babel-localedata.\n",
            "Preparing to unpack .../079-python-babel-localedata_2.8.0+dfsg.1-7_all.deb ...\n",
            "Unpacking python-babel-localedata (2.8.0+dfsg.1-7) ...\n",
            "Selecting previously unselected package python-matplotlib-data.\n",
            "Preparing to unpack .../080-python-matplotlib-data_3.5.1-2build1_all.deb ...\n",
            "Unpacking python-matplotlib-data (3.5.1-2build1) ...\n",
            "Selecting previously unselected package python-odf-doc.\n",
            "Preparing to unpack .../081-python-odf-doc_1.4.2-1_all.deb ...\n",
            "Unpacking python-odf-doc (1.4.2-1) ...\n",
            "Selecting previously unselected package python3-defusedxml.\n",
            "Preparing to unpack .../082-python3-defusedxml_0.7.1-1_all.deb ...\n",
            "Unpacking python3-defusedxml (0.7.1-1) ...\n",
            "Selecting previously unselected package python3-odf.\n",
            "Preparing to unpack .../083-python3-odf_1.4.2-1_all.deb ...\n",
            "Unpacking python3-odf (1.4.2-1) ...\n",
            "Selecting previously unselected package python-odf-tools.\n",
            "Preparing to unpack .../084-python-odf-tools_1.4.2-1_all.deb ...\n",
            "Unpacking python-odf-tools (1.4.2-1) ...\n",
            "Selecting previously unselected package python-tables-data.\n",
            "Preparing to unpack .../085-python-tables-data_3.7.0-2build1_all.deb ...\n",
            "Unpacking python-tables-data (3.7.0-2build1) ...\n",
            "Selecting previously unselected package python3-appdirs.\n",
            "Preparing to unpack .../086-python3-appdirs_1.4.4-2_all.deb ...\n",
            "Unpacking python3-appdirs (1.4.4-2) ...\n",
            "Selecting previously unselected package python3-asciitree.\n",
            "Preparing to unpack .../087-python3-asciitree_0.3.3-3_all.deb ...\n",
            "Unpacking python3-asciitree (0.3.3-3) ...\n",
            "Selecting previously unselected package python3-attr.\n",
            "Preparing to unpack .../088-python3-attr_21.2.0-1_all.deb ...\n",
            "Unpacking python3-attr (21.2.0-1) ...\n",
            "Selecting previously unselected package python3-tz.\n",
            "Preparing to unpack .../089-python3-tz_2022.1-1ubuntu0.22.04.1_all.deb ...\n",
            "Unpacking python3-tz (2022.1-1ubuntu0.22.04.1) ...\n",
            "Selecting previously unselected package python3-babel.\n",
            "Preparing to unpack .../090-python3-babel_2.8.0+dfsg.1-7_all.deb ...\n",
            "Unpacking python3-babel (2.8.0+dfsg.1-7) ...\n",
            "Selecting previously unselected package python3-gast.\n",
            "Preparing to unpack .../091-python3-gast_0.5.2-2_all.deb ...\n",
            "Unpacking python3-gast (0.5.2-2) ...\n",
            "Selecting previously unselected package python3-beniget.\n",
            "Preparing to unpack .../092-python3-beniget_0.4.1-2_all.deb ...\n",
            "Unpacking python3-beniget (0.4.1-2) ...\n",
            "Selecting previously unselected package python3-blosc.\n",
            "Preparing to unpack .../093-python3-blosc_1.9.2+ds1-3build2_amd64.deb ...\n",
            "Unpacking python3-blosc (1.9.2+ds1-3build2) ...\n",
            "Selecting previously unselected package python3-bottleneck.\n",
            "Preparing to unpack .../094-python3-bottleneck_1.3.2+ds1-2build1_amd64.deb ...\n",
            "Unpacking python3-bottleneck (1.3.2+ds1-2build1) ...\n",
            "Selecting previously unselected package python3-brotli.\n",
            "Preparing to unpack .../095-python3-brotli_1.0.9-2build6_amd64.deb ...\n",
            "Unpacking python3-brotli (1.0.9-2build6) ...\n",
            "Selecting previously unselected package python3-soupsieve.\n",
            "Preparing to unpack .../096-python3-soupsieve_2.3.1-1_all.deb ...\n",
            "Unpacking python3-soupsieve (2.3.1-1) ...\n",
            "Selecting previously unselected package python3-bs4.\n",
            "Preparing to unpack .../097-python3-bs4_4.10.0-2_all.deb ...\n",
            "Unpacking python3-bs4 (4.10.0-2) ...\n",
            "Selecting previously unselected package python3-certifi.\n",
            "Preparing to unpack .../098-python3-certifi_2020.6.20-1_all.deb ...\n",
            "Unpacking python3-certifi (2020.6.20-1) ...\n",
            "Selecting previously unselected package python3-cftime.\n",
            "Preparing to unpack .../099-python3-cftime_1.5.2+ds-1build1_amd64.deb ...\n",
            "Unpacking python3-cftime (1.5.2+ds-1build1) ...\n",
            "Selecting previously unselected package python3-chardet.\n",
            "Preparing to unpack .../100-python3-chardet_4.0.0-1_all.deb ...\n",
            "Unpacking python3-chardet (4.0.0-1) ...\n",
            "Selecting previously unselected package python3-colorama.\n",
            "Preparing to unpack .../101-python3-colorama_0.4.4-1_all.deb ...\n",
            "Unpacking python3-colorama (0.4.4-1) ...\n",
            "Selecting previously unselected package python3-click.\n",
            "Preparing to unpack .../102-python3-click_8.0.3-1_all.deb ...\n",
            "Unpacking python3-click (8.0.3-1) ...\n",
            "Selecting previously unselected package python3-cloudpickle.\n",
            "Preparing to unpack .../103-python3-cloudpickle_2.0.0-1_all.deb ...\n",
            "Unpacking python3-cloudpickle (2.0.0-1) ...\n",
            "Selecting previously unselected package python3-cycler.\n",
            "Preparing to unpack .../104-python3-cycler_0.11.0-1_all.deb ...\n",
            "Unpacking python3-cycler (0.11.0-1) ...\n",
            "Selecting previously unselected package python3-fsspec.\n",
            "Preparing to unpack .../105-python3-fsspec_2022.01.0-1_all.deb ...\n",
            "Unpacking python3-fsspec (2022.01.0-1) ...\n",
            "Selecting previously unselected package python3-toolz.\n",
            "Preparing to unpack .../106-python3-toolz_0.11.2-1_all.deb ...\n",
            "Unpacking python3-toolz (0.11.2-1) ...\n",
            "Selecting previously unselected package python3-packaging.\n",
            "Preparing to unpack .../107-python3-packaging_21.3-1_all.deb ...\n",
            "Unpacking python3-packaging (21.3-1) ...\n",
            "Selecting previously unselected package python3-locket.\n",
            "Preparing to unpack .../108-python3-locket_0.2.1-1_all.deb ...\n",
            "Unpacking python3-locket (0.2.1-1) ...\n",
            "Selecting previously unselected package python3-partd.\n",
            "Preparing to unpack .../109-python3-partd_1.2.0-1_all.deb ...\n",
            "Unpacking python3-partd (1.2.0-1) ...\n",
            "Selecting previously unselected package python3-dask.\n",
            "Preparing to unpack .../110-python3-dask_2022.01.0+dfsg-1ubuntu1_all.deb ...\n",
            "Unpacking python3-dask (2022.01.0+dfsg-1ubuntu1) ...\n",
            "Selecting previously unselected package python3-dateutil.\n",
            "Preparing to unpack .../111-python3-dateutil_2.8.1-6_all.deb ...\n",
            "Unpacking python3-dateutil (2.8.1-6) ...\n",
            "Selecting previously unselected package python3-decorator.\n",
            "Preparing to unpack .../112-python3-decorator_4.4.2-0ubuntu1_all.deb ...\n",
            "Unpacking python3-decorator (4.4.2-0ubuntu1) ...\n",
            "Selecting previously unselected package python3-jinja2.\n",
            "Preparing to unpack .../113-python3-jinja2_3.0.3-1ubuntu0.4_all.deb ...\n",
            "Unpacking python3-jinja2 (3.0.3-1ubuntu0.4) ...\n",
            "Selecting previously unselected package python3-msgpack.\n",
            "Preparing to unpack .../114-python3-msgpack_1.0.3-1build1_amd64.deb ...\n",
            "Unpacking python3-msgpack (1.0.3-1build1) ...\n",
            "Selecting previously unselected package python3-psutil.\n",
            "Preparing to unpack .../115-python3-psutil_5.9.0-1build1_amd64.deb ...\n",
            "Unpacking python3-psutil (5.9.0-1build1) ...\n",
            "Selecting previously unselected package python3-sortedcontainers.\n",
            "Preparing to unpack .../116-python3-sortedcontainers_2.1.0-2_all.deb ...\n",
            "Unpacking python3-sortedcontainers (2.1.0-2) ...\n",
            "Selecting previously unselected package python3-tblib.\n",
            "Preparing to unpack .../117-python3-tblib_1.7.0-2_all.deb ...\n",
            "Unpacking python3-tblib (1.7.0-2) ...\n",
            "Selecting previously unselected package python3-tornado.\n",
            "Preparing to unpack .../118-python3-tornado_6.1.0-3build1_amd64.deb ...\n",
            "Unpacking python3-tornado (6.1.0-3build1) ...\n",
            "Selecting previously unselected package python3-heapdict.\n",
            "Preparing to unpack .../119-python3-heapdict_1.0.1-1_all.deb ...\n",
            "Unpacking python3-heapdict (1.0.1-1) ...\n",
            "Selecting previously unselected package python3-zict.\n",
            "Preparing to unpack .../120-python3-zict_2.0.0-1_all.deb ...\n",
            "Unpacking python3-zict (2.0.0-1) ...\n",
            "Selecting previously unselected package python3-distributed.\n",
            "Preparing to unpack .../121-python3-distributed_2022.01.0+ds.1-1_all.deb ...\n",
            "Unpacking python3-distributed (2022.01.0+ds.1-1) ...\n",
            "Selecting previously unselected package python3-idna.\n",
            "Preparing to unpack .../122-python3-idna_3.3-1ubuntu0.1_all.deb ...\n",
            "Unpacking python3-idna (3.3-1ubuntu0.1) ...\n",
            "Selecting previously unselected package python3-urllib3.\n",
            "Preparing to unpack .../123-python3-urllib3_1.26.5-1~exp1ubuntu0.2_all.deb ...\n",
            "Unpacking python3-urllib3 (1.26.5-1~exp1ubuntu0.2) ...\n",
            "Selecting previously unselected package python3-requests.\n",
            "Preparing to unpack .../124-python3-requests_2.25.1+dfsg-2ubuntu0.1_all.deb ...\n",
            "Unpacking python3-requests (2.25.1+dfsg-2ubuntu0.1) ...\n",
            "Selecting previously unselected package python3-ply.\n",
            "Preparing to unpack .../125-python3-ply_3.11-5_all.deb ...\n",
            "Unpacking python3-ply (3.11-5) ...\n",
            "Selecting previously unselected package python3-stone.\n",
            "Preparing to unpack .../126-python3-stone_3.3.1-1_all.deb ...\n",
            "Unpacking python3-stone (3.3.1-1) ...\n",
            "Selecting previously unselected package python3-dropbox.\n",
            "Preparing to unpack .../127-python3-dropbox_11.26.0-1_all.deb ...\n",
            "Unpacking python3-dropbox (11.26.0-1) ...\n",
            "Selecting previously unselected package python3-et-xmlfile.\n",
            "Preparing to unpack .../128-python3-et-xmlfile_1.0.1-2.1_all.deb ...\n",
            "Unpacking python3-et-xmlfile (1.0.1-2.1) ...\n",
            "Selecting previously unselected package python3-monotonic.\n",
            "Preparing to unpack .../129-python3-monotonic_1.6-2_all.deb ...\n",
            "Unpacking python3-monotonic (1.6-2) ...\n",
            "Selecting previously unselected package python3-fasteners.\n",
            "Preparing to unpack .../130-python3-fasteners_0.14.1-2_all.deb ...\n",
            "Unpacking python3-fasteners (0.14.1-2) ...\n",
            "Selecting previously unselected package python3-pythran.\n",
            "Preparing to unpack .../131-python3-pythran_0.10.0+ds2-1_amd64.deb ...\n",
            "Unpacking python3-pythran (0.10.0+ds2-1) ...\n",
            "Selecting previously unselected package python3-scipy.\n",
            "Preparing to unpack .../132-python3-scipy_1.8.0-1exp2ubuntu1_amd64.deb ...\n",
            "Unpacking python3-scipy (1.8.0-1exp2ubuntu1) ...\n",
            "Selecting previously unselected package python3-ufolib2.\n",
            "Preparing to unpack .../133-python3-ufolib2_0.13.1+dfsg1-1_all.deb ...\n",
            "Unpacking python3-ufolib2 (0.13.1+dfsg1-1) ...\n",
            "Selecting previously unselected package python3-mpmath.\n",
            "Preparing to unpack .../134-python3-mpmath_1.2.1-2_all.deb ...\n",
            "Unpacking python3-mpmath (1.2.1-2) ...\n",
            "Selecting previously unselected package python3-sympy.\n",
            "Preparing to unpack .../135-python3-sympy_1.9-1_all.deb ...\n",
            "Unpacking python3-sympy (1.9-1) ...\n",
            "Selecting previously unselected package python3-fs.\n",
            "Preparing to unpack .../136-python3-fs_2.4.12-1_all.deb ...\n",
            "Unpacking python3-fs (2.4.12-1) ...\n",
            "Selecting previously unselected package python3-lxml:amd64.\n",
            "Preparing to unpack .../137-python3-lxml_4.8.0-1build1_amd64.deb ...\n",
            "Unpacking python3-lxml:amd64 (4.8.0-1build1) ...\n",
            "Selecting previously unselected package python3-lz4.\n",
            "Preparing to unpack .../138-python3-lz4_3.1.3+dfsg-1build3_amd64.deb ...\n",
            "Unpacking python3-lz4 (3.1.3+dfsg-1build3) ...\n",
            "Selecting previously unselected package python3-unicodedata2.\n",
            "Preparing to unpack .../139-python3-unicodedata2_14.0.0+ds-8_amd64.deb ...\n",
            "Unpacking python3-unicodedata2 (14.0.0+ds-8) ...\n",
            "Selecting previously unselected package unicode-data.\n",
            "Preparing to unpack .../140-unicode-data_14.0.0-1.1_all.deb ...\n",
            "Unpacking unicode-data (14.0.0-1.1) ...\n",
            "Selecting previously unselected package python3-fonttools.\n",
            "Preparing to unpack .../141-python3-fonttools_4.29.1-2build1_amd64.deb ...\n",
            "Unpacking python3-fonttools (4.29.1-2build1) ...\n",
            "Selecting previously unselected package python3-fusepy.\n",
            "Preparing to unpack .../142-python3-fusepy_3.0.1-2_all.deb ...\n",
            "Unpacking python3-fusepy (3.0.1-2) ...\n",
            "Selecting previously unselected package python3-h5py-serial.\n",
            "Preparing to unpack .../143-python3-h5py-serial_3.6.0-2build1_amd64.deb ...\n",
            "Unpacking python3-h5py-serial (3.6.0-2build1) ...\n",
            "Selecting previously unselected package python3-h5netcdf.\n",
            "Preparing to unpack .../144-python3-h5netcdf_0.12.0-1_all.deb ...\n",
            "Unpacking python3-h5netcdf (0.12.0-1) ...\n",
            "Selecting previously unselected package python3-webencodings.\n",
            "Preparing to unpack .../145-python3-webencodings_0.5.1-4_all.deb ...\n",
            "Unpacking python3-webencodings (0.5.1-4) ...\n",
            "Selecting previously unselected package python3-html5lib.\n",
            "Preparing to unpack .../146-python3-html5lib_1.1-3_all.deb ...\n",
            "Unpacking python3-html5lib (1.1-3) ...\n",
            "Selecting previously unselected package python3-iniconfig.\n",
            "Preparing to unpack .../147-python3-iniconfig_1.1.1-2_all.deb ...\n",
            "Unpacking python3-iniconfig (1.1.1-2) ...\n",
            "Selecting previously unselected package python3-jdcal.\n",
            "Preparing to unpack .../148-python3-jdcal_1.0-1.3_all.deb ...\n",
            "Unpacking python3-jdcal (1.0-1.3) ...\n",
            "Selecting previously unselected package python3-kiwisolver.\n",
            "Preparing to unpack .../149-python3-kiwisolver_1.3.2-1build1_amd64.deb ...\n",
            "Unpacking python3-kiwisolver (1.3.2-1build1) ...\n",
            "Selecting previously unselected package python3-llvmlite.\n",
            "Preparing to unpack .../150-python3-llvmlite_0.38.0-1_amd64.deb ...\n",
            "Unpacking python3-llvmlite (0.38.0-1) ...\n",
            "Selecting previously unselected package python3-pil:amd64.\n",
            "Preparing to unpack .../151-python3-pil_9.0.1-1ubuntu0.3_amd64.deb ...\n",
            "Unpacking python3-pil:amd64 (9.0.1-1ubuntu0.3) ...\n",
            "Selecting previously unselected package python3-pil.imagetk:amd64.\n",
            "Preparing to unpack .../152-python3-pil.imagetk_9.0.1-1ubuntu0.3_amd64.deb ...\n",
            "Unpacking python3-pil.imagetk:amd64 (9.0.1-1ubuntu0.3) ...\n",
            "Selecting previously unselected package python3-matplotlib.\n",
            "Preparing to unpack .../153-python3-matplotlib_3.5.1-2build1_amd64.deb ...\n",
            "Unpacking python3-matplotlib (3.5.1-2build1) ...\n",
            "Selecting previously unselected package python3-nacl.\n",
            "Preparing to unpack .../154-python3-nacl_1.5.0-2_amd64.deb ...\n",
            "Unpacking python3-nacl (1.5.0-2) ...\n",
            "Selecting previously unselected package python3-netcdf4.\n",
            "Preparing to unpack .../155-python3-netcdf4_1.5.8-1build1_amd64.deb ...\n",
            "Unpacking python3-netcdf4 (1.5.8-1build1) ...\n",
            "Selecting previously unselected package python3-numba.\n",
            "Preparing to unpack .../156-python3-numba_0.55.1-0ubuntu2_amd64.deb ...\n",
            "Unpacking python3-numba (0.55.1-0ubuntu2) ...\n",
            "Selecting previously unselected package python3-numcodecs.\n",
            "Preparing to unpack .../157-python3-numcodecs_0.9.1+ds-2build1_amd64.deb ...\n",
            "Unpacking python3-numcodecs (0.9.1+ds-2build1) ...\n",
            "Selecting previously unselected package python3-numexpr.\n",
            "Preparing to unpack .../158-python3-numexpr_2.8.1-1build1_amd64.deb ...\n",
            "Unpacking python3-numexpr (2.8.1-1build1) ...\n",
            "Selecting previously unselected package python3-olefile.\n",
            "Preparing to unpack .../159-python3-olefile_0.46-3_all.deb ...\n",
            "Unpacking python3-olefile (0.46-3) ...\n",
            "Selecting previously unselected package python3-openpyxl.\n",
            "Preparing to unpack .../160-python3-openpyxl_3.0.9-1_all.deb ...\n",
            "Unpacking python3-openpyxl (3.0.9-1) ...\n",
            "Selecting previously unselected package python3-pandas-lib:amd64.\n",
            "Preparing to unpack .../161-python3-pandas-lib_1.3.5+dfsg-3_amd64.deb ...\n",
            "Unpacking python3-pandas-lib:amd64 (1.3.5+dfsg-3) ...\n",
            "Selecting previously unselected package python3-pandas.\n",
            "Preparing to unpack .../162-python3-pandas_1.3.5+dfsg-3_all.deb ...\n",
            "Unpacking python3-pandas (1.3.5+dfsg-3) ...\n",
            "Selecting previously unselected package python3-bcrypt.\n",
            "Preparing to unpack .../163-python3-bcrypt_3.2.0-1build1_amd64.deb ...\n",
            "Unpacking python3-bcrypt (3.2.0-1build1) ...\n",
            "Selecting previously unselected package python3-paramiko.\n",
            "Preparing to unpack .../164-python3-paramiko_2.9.3-0ubuntu1.3_all.deb ...\n",
            "Unpacking python3-paramiko (2.9.3-0ubuntu1.3) ...\n",
            "Selecting previously unselected package python3-setuptools.\n",
            "Preparing to unpack .../165-python3-setuptools_68.1.2-2~jammy3_all.deb ...\n",
            "Unpacking python3-setuptools (68.1.2-2~jammy3) ...\n",
            "Selecting previously unselected package python3-wheel.\n",
            "Preparing to unpack .../166-python3-wheel_0.37.1-2ubuntu0.22.04.1_all.deb ...\n",
            "Unpacking python3-wheel (0.37.1-2ubuntu0.22.04.1) ...\n",
            "Selecting previously unselected package python3-pip.\n",
            "Preparing to unpack .../167-python3-pip_22.0.2+dfsg-1ubuntu0.5_all.deb ...\n",
            "Unpacking python3-pip (22.0.2+dfsg-1ubuntu0.5) ...\n",
            "Selecting previously unselected package python3-pluggy.\n",
            "Preparing to unpack .../168-python3-pluggy_0.13.0-7.1_all.deb ...\n",
            "Unpacking python3-pluggy (0.13.0-7.1) ...\n",
            "Selecting previously unselected package python3-py.\n",
            "Preparing to unpack .../169-python3-py_1.10.0-1_all.deb ...\n",
            "Unpacking python3-py (1.10.0-1) ...\n",
            "Selecting previously unselected package python3-pygit2.\n",
            "Preparing to unpack .../170-python3-pygit2_1.6.1+dfsg-2_amd64.deb ...\n",
            "Unpacking python3-pygit2 (1.6.1+dfsg-2) ...\n",
            "Selecting previously unselected package python3-toml.\n",
            "Preparing to unpack .../171-python3-toml_0.10.2-1_all.deb ...\n",
            "Unpacking python3-toml (0.10.2-1) ...\n",
            "Selecting previously unselected package python3-pytest.\n",
            "Preparing to unpack .../172-python3-pytest_6.2.5-1ubuntu2_all.deb ...\n",
            "Unpacking python3-pytest (6.2.5-1ubuntu2) ...\n",
            "Selecting previously unselected package python3-tables-lib.\n",
            "Preparing to unpack .../173-python3-tables-lib_3.7.0-2build1_amd64.deb ...\n",
            "Unpacking python3-tables-lib (3.7.0-2build1) ...\n",
            "Selecting previously unselected package python3-tables.\n",
            "Preparing to unpack .../174-python3-tables_3.7.0-2build1_all.deb ...\n",
            "Unpacking python3-tables (3.7.0-2build1) ...\n",
            "Selecting previously unselected package python3-xarray.\n",
            "Preparing to unpack .../175-python3-xarray_0.21.1-1_all.deb ...\n",
            "Unpacking python3-xarray (0.21.1-1) ...\n",
            "Selecting previously unselected package python3-xlwt.\n",
            "Preparing to unpack .../176-python3-xlwt_1.3.0-3_all.deb ...\n",
            "Unpacking python3-xlwt (1.3.0-3) ...\n",
            "Selecting previously unselected package python3-zarr.\n",
            "Preparing to unpack .../177-python3-zarr_2.10.3+ds-1_all.deb ...\n",
            "Unpacking python3-zarr (2.10.3+ds-1) ...\n",
            "Selecting previously unselected package python3-zmq.\n",
            "Preparing to unpack .../178-python3-zmq_22.3.0-1build1_amd64.deb ...\n",
            "Unpacking python3-zmq (22.3.0-1build1) ...\n",
            "Selecting previously unselected package qt5-gtk-platformtheme:amd64.\n",
            "Preparing to unpack .../179-qt5-gtk-platformtheme_5.15.3+dfsg-2ubuntu0.2_amd64.deb ...\n",
            "Unpacking qt5-gtk-platformtheme:amd64 (5.15.3+dfsg-2ubuntu0.2) ...\n",
            "Selecting previously unselected package qttranslations5-l10n.\n",
            "Preparing to unpack .../180-qttranslations5-l10n_5.15.3-1_all.deb ...\n",
            "Unpacking qttranslations5-l10n (5.15.3-1) ...\n",
            "Selecting previously unselected package python3-cdo.\n",
            "Preparing to unpack .../181-python3-cdo_1.5.6-1_amd64.deb ...\n",
            "Unpacking python3-cdo (1.5.6-1) ...\n",
            "Selecting previously unselected package python3-libarchive-c.\n",
            "Preparing to unpack .../182-python3-libarchive-c_2.9-0.1_all.deb ...\n",
            "Unpacking python3-libarchive-c (2.9-0.1) ...\n",
            "Setting up python3-pkg-resources (68.1.2-2~jammy3) ...\n",
            "Setting up python3-heapdict (1.0.1-1) ...\n",
            "Setting up python3-iniconfig (1.1.1-2) ...\n",
            "Setting up python3-attr (21.2.0-1) ...\n",
            "Setting up python3-tornado (6.1.0-3build1) ...\n",
            "Setting up fonts-lato (2.0-2.1) ...\n",
            "Setting up python3-libarchive-c (2.9-0.1) ...\n",
            "Setting up fonts-noto-mono (20201225-1build1) ...\n",
            "Setting up python3-setuptools (68.1.2-2~jammy3) ...\n",
            "Setting up libxcb-xinput0:amd64 (1.14-3ubuntu3) ...\n",
            "Setting up python3-tblib (1.7.0-2) ...\n",
            "Setting up python3-py (1.10.0-1) ...\n",
            "Setting up python3-jdcal (1.0-1.3) ...\n",
            "Setting up libgslcblas0:amd64 (2.7.1+dfsg-3) ...\n",
            "Setting up python3-colorama (0.4.4-1) ...\n",
            "Setting up python3-lz4 (3.1.3+dfsg-1build3) ...\n",
            "Setting up python3-defusedxml (0.7.1-1) ...\n",
            "Setting up python3-pygit2 (1.6.1+dfsg-2) ...\n",
            "Setting up python3-unicodedata2 (14.0.0+ds-8) ...\n",
            "Setting up fonts-lyx (2.3.6-1) ...\n",
            "Setting up libijs-0.35:amd64 (0.35-15build2) ...\n",
            "Setting up python3-olefile (0.46-3) ...\n",
            "Setting up python3-bcrypt (3.2.0-1build1) ...\n",
            "Setting up python3-fsspec (2022.01.0-1) ...\n",
            "Setting up python3-ply (3.11-5) ...\n",
            "Setting up libxcb-keysyms1:amd64 (0.4.0-1build3) ...\n",
            "Setting up python3-gast (0.5.2-2) ...\n",
            "Setting up libgsl27:amd64 (2.7.1+dfsg-3) ...\n",
            "Setting up libeccodes-data (2.24.2-1) ...\n",
            "Setting up libxcb-render-util0:amd64 (0.3.9-1build3) ...\n",
            "Setting up python3-yaml (5.4.1-1ubuntu1) ...\n",
            "Setting up libdxflib3:amd64 (3.26.4-1) ...\n",
            "Setting up libxcb-icccm4:amd64 (0.4.1-1.1build2) ...\n",
            "Setting up python3-sortedcontainers (2.1.0-2) ...\n",
            "Setting up libproj22:amd64 (8.2.1-1) ...\n",
            "Setting up fonts-urw-base35 (20200910-1) ...\n",
            "Setting up python3-fusepy (3.0.1-2) ...\n",
            "Setting up python3-click (8.0.3-1) ...\n",
            "Setting up python3-wheel (0.37.1-2ubuntu0.22.04.1) ...\n",
            "Setting up python3-webencodings (0.5.1-4) ...\n",
            "Setting up python3-psutil (5.9.0-1build1) ...\n",
            "Setting up python3-tz (2022.1-1ubuntu0.22.04.1) ...\n",
            "Setting up libmagics++-data (4.10.1-1) ...\n",
            "Setting up python-babel-localedata (2.8.0+dfsg.1-7) ...\n",
            "Setting up libxcb-util1:amd64 (0.4.0-1build2) ...\n",
            "Setting up python3-cloudpickle (2.0.0-1) ...\n",
            "Setting up poppler-data (0.4.11-1) ...\n",
            "Setting up libxcb-xkb1:amd64 (1.14-3ubuntu3) ...\n",
            "Setting up libxcb-image0:amd64 (0.4.0-2) ...\n",
            "Setting up python3-monotonic (1.6-2) ...\n",
            "Setting up python3-blosc (1.9.2+ds1-3build2) ...\n",
            "Setting up unicode-data (14.0.0-1.1) ...\n",
            "Setting up python3-beniget (0.4.1-2) ...\n",
            "Setting up python3-stone (3.3.1-1) ...\n",
            "Setting up libxsimd-dev:amd64 (7.6.0-2) ...\n",
            "Setting up python3-decorator (4.4.2-0ubuntu1) ...\n",
            "Setting up python3-pygments (2.11.2+dfsg-2ubuntu0.1) ...\n",
            "Setting up libz3-4:amd64 (4.8.12-1) ...\n",
            "Setting up python3-packaging (21.3-1) ...\n",
            "Setting up libxcb-xinerama0:amd64 (1.14-3ubuntu3) ...\n",
            "Setting up libpfm4:amd64 (4.11.1+git32-gd0b85fb-1ubuntu0.1) ...\n",
            "Setting up python3-chardet (4.0.0-1) ...\n",
            "Setting up libllvm11:amd64 (1:11.1.0-6) ...\n",
            "Setting up qttranslations5-l10n (5.15.3-1) ...\n",
            "Setting up python3-certifi (2020.6.20-1) ...\n",
            "Setting up libjbig2dec0:amd64 (0.19-3build2) ...\n",
            "Setting up python3-zmq (22.3.0-1build1) ...\n",
            "Setting up python3-brotli (1.0.9-2build6) ...\n",
            "Setting up libraqm0:amd64 (0.7.0-4ubuntu1) ...\n",
            "Setting up liblzf1:amd64 (3.6-3) ...\n",
            "Setting up python3-cycler (0.11.0-1) ...\n",
            "Setting up python-odf-doc (1.4.2-1) ...\n",
            "Setting up libimagequant0:amd64 (2.17.0-1) ...\n",
            "Setting up libxkbcommon-x11-0:amd64 (1.4.0-1) ...\n",
            "Setting up python3-kiwisolver (1.3.2-1build1) ...\n",
            "Setting up python3-xlwt (1.3.0-3) ...\n",
            "Setting up python3-idna (3.3-1ubuntu0.1) ...\n",
            "Setting up libidn12:amd64 (1.38-4ubuntu1) ...\n",
            "Setting up binfmt-support (2.2.1-2) ...\n",
            "invoke-rc.d: could not determine current runlevel\n",
            "invoke-rc.d: policy-rc.d denied execution of restart.\n",
            "Created symlink /etc/systemd/system/multi-user.target.wants/binfmt-support.service → /lib/systemd/system/binfmt-support.service.\n",
            "Setting up fonts-dejavu-core (2.37-2build1) ...\n",
            "Setting up libeccodes0:amd64 (2.24.2-1) ...\n",
            "Setting up python3-fasteners (0.14.1-2) ...\n",
            "Setting up python3-pip (22.0.2+dfsg-1ubuntu0.5) ...\n",
            "Setting up python3-asciitree (0.3.3-3) ...\n",
            "Setting up libqt5core5a:amd64 (5.15.3+dfsg-2ubuntu0.2) ...\n",
            "Setting up python3-html5lib (1.1-3) ...\n",
            "Setting up python3-numpy (1:1.21.5-1ubuntu22.04.1) ...\n",
            "Setting up libfftw3-double3:amd64 (3.3.8-2ubuntu8) ...\n",
            "Setting up python3-toml (0.10.2-1) ...\n",
            "Setting up libmtdev1:amd64 (1.1.6-1build4) ...\n",
            "Setting up python3-urllib3 (1.26.5-1~exp1ubuntu0.2) ...\n",
            "Setting up python3-pluggy (0.13.0-7.1) ...\n",
            "Setting up llvm-11-linker-tools (1:11.1.0-6) ...\n",
            "Setting up fonts-dejavu-extra (2.37-2build1) ...\n",
            "Setting up librsync2:amd64 (2.3.2-1ubuntu1) ...\n",
            "Setting up python3-pythran (0.10.0+ds2-1) ...\n",
            "Setting up python3-lxml:amd64 (4.8.0-1build1) ...\n",
            "Setting up libqt5dbus5:amd64 (5.15.3+dfsg-2ubuntu0.2) ...\n",
            "Setting up python3-et-xmlfile (1.0.1-2.1) ...\n",
            "Setting up libmd4c0:amd64 (0.4.8-1) ...\n",
            "Setting up python3-toolz (0.11.2-1) ...\n",
            "Setting up python3-dateutil (2.8.1-6) ...\n",
            "Setting up libeckit0d:amd64 (1.18.7-1) ...\n",
            "Setting up python3-msgpack (1.0.3-1build1) ...\n",
            "Setting up fonts-droid-fallback (1:6.0.1r16-1.1build1) ...\n",
            "Setting up python3-mpmath (1.2.1-2) ...\n",
            "Setting up python3-zict (2.0.0-1) ...\n",
            "Setting up python-matplotlib-data (3.5.1-2build1) ...\n",
            "Setting up python3-locket (0.2.1-1) ...\n",
            "Setting up python3-appdirs (1.4.4-2) ...\n",
            "Setting up libevdev2:amd64 (1.12.1+dfsg-1) ...\n",
            "Setting up python3-soupsieve (2.3.1-1) ...\n",
            "Setting up python-tables-data (3.7.0-2build1) ...\n",
            "Setting up fonts-font-awesome (5.0.10+really4.7.0~dfsg-4.1) ...\n",
            "Setting up sphinx-rtd-theme-common (1.0.0+dfsg-1) ...\n",
            "Setting up python3-gdal (3.8.4+dfsg-1~jammy0) ...\n",
            "Setting up libgudev-1.0-0:amd64 (1:237-2build1) ...\n",
            "Setting up python3-nacl (1.5.0-2) ...\n",
            "Setting up liblbfgsb0:amd64 (3.0+dfsg.3-10) ...\n",
            "Setting up python3-odf (1.4.2-1) ...\n",
            "Setting up libwacom-common (2.2.0-1) ...\n",
            "Setting up nco (5.0.6-1) ...\n",
            "Setting up libgs9-common (9.55.0~dfsg1-0ubuntu5.11) ...\n",
            "Setting up python3-partd (1.2.0-1) ...\n",
            "Setting up python3-sympy (1.9-1) ...\n",
            "Setting up libz3-dev:amd64 (4.8.12-1) ...\n",
            "Setting up llvm-11-runtime (1:11.1.0-6) ...\n",
            "Setting up python3-scipy (1.8.0-1exp2ubuntu1) ...\n",
            "Setting up libgs9:amd64 (9.55.0~dfsg1-0ubuntu5.11) ...\n",
            "Setting up python3-babel (2.8.0+dfsg.1-7) ...\n",
            "update-alternatives: using /usr/bin/pybabel-python3 to provide /usr/bin/pybabel (pybabel) in auto mode\n",
            "Setting up libwacom9:amd64 (2.2.0-1) ...\n",
            "Setting up llvm-11-tools (1:11.1.0-6) ...\n",
            "Setting up python3-pytest (6.2.5-1ubuntu2) ...\n",
            "Setting up python3-tables-lib (3.7.0-2build1) ...\n",
            "Setting up python3-numcodecs (0.9.1+ds-2build1) ...\n",
            "Setting up python3-pandas-lib:amd64 (1.3.5+dfsg-3) ...\n",
            "Setting up libcdi0:amd64 (2.0.4-1) ...\n",
            "Setting up python-odf-tools (1.4.2-1) ...\n",
            "Setting up libterralib3:amd64 (4.3.0+dfsg.2-12.1build2) ...\n",
            "Setting up python3-dask (2022.01.0+dfsg-1ubuntu1) ...\n",
            "Setting up python3-h5py-serial (3.6.0-2build1) ...\n",
            "Setting up llvm-11 (1:11.1.0-6) ...\n",
            "Setting up ghostscript (9.55.0~dfsg1-0ubuntu5.11) ...\n",
            "Setting up libqt5network5:amd64 (5.15.3+dfsg-2ubuntu0.2) ...\n",
            "Setting up python3-bs4 (4.10.0-2) ...\n",
            "Setting up libinput-bin (1.20.0-1ubuntu0.3) ...\n",
            "Setting up python3-fs (2.4.12-1) ...\n",
            "Setting up libclang-cpp11 (1:11.1.0-6) ...\n",
            "Setting up python3-pil:amd64 (9.0.1-1ubuntu0.3) ...\n",
            "Setting up python3-llvmlite (0.38.0-1) ...\n",
            "Setting up python3-jinja2 (3.0.3-1ubuntu0.4) ...\n",
            "Setting up python3-distributed (2022.01.0+ds.1-1) ...\n",
            "Setting up python3-h5netcdf (0.12.0-1) ...\n",
            "Setting up python3-pandas (1.3.5+dfsg-3) ...\n",
            "Setting up gdal-bin (3.8.4+dfsg-1~jammy0) ...\n",
            "Setting up python3-pil.imagetk:amd64 (9.0.1-1ubuntu0.3) ...\n",
            "Setting up python3-openpyxl (3.0.9-1) ...\n",
            "Setting up python3-requests (2.25.1+dfsg-2ubuntu0.1) ...\n",
            "Setting up python3-bottleneck (1.3.2+ds1-2build1) ...\n",
            "Setting up python3-cftime (1.5.2+ds-1build1) ...\n",
            "Setting up python3-numexpr (2.8.1-1build1) ...\n",
            "Setting up libodc-0d:amd64 (1.4.4-1) ...\n",
            "Setting up libwacom-bin (2.2.0-1) ...\n",
            "Setting up numba-doc (0.55.1-0ubuntu2) ...\n",
            "Setting up python3-paramiko (2.9.3-0ubuntu1.3) ...\n",
            "Setting up python3-zarr (2.10.3+ds-1) ...\n",
            "Setting up python3-netcdf4 (1.5.8-1build1) ...\n",
            "Setting up python3-dropbox (11.26.0-1) ...\n",
            "Setting up libinput10:amd64 (1.20.0-1ubuntu0.3) ...\n",
            "Setting up llvm-11-dev (1:11.1.0-6) ...\n",
            "Setting up python3-xarray (0.21.1-1) ...\n",
            "Setting up libqt5gui5:amd64 (5.15.3+dfsg-2ubuntu0.2) ...\n",
            "Setting up libqt5widgets5:amd64 (5.15.3+dfsg-2ubuntu0.2) ...\n",
            "Setting up python3-tables (3.7.0-2build1) ...\n",
            "Setting up python3-numba (0.55.1-0ubuntu2) ...\n",
            "update-alternatives: using /usr/share/python3-numba/numba to provide /usr/bin/numba (numba) in auto mode\n",
            "Setting up qt5-gtk-platformtheme:amd64 (5.15.3+dfsg-2ubuntu0.2) ...\n",
            "Setting up libmagplus3v5:amd64 (4.10.1-1) ...\n",
            "Setting up libqt5svg5:amd64 (5.15.3-1) ...\n",
            "Setting up cdo (2.0.4-1) ...\n",
            "Setting up python3-cdo (1.5.6-1) ...\n",
            "Setting up python3-ufolib2 (0.13.1+dfsg1-1) ...\n",
            "Setting up python3-fonttools (4.29.1-2build1) ...\n",
            "Setting up python3-matplotlib (3.5.1-2build1) ...\n",
            "Processing triggers for libc-bin (2.35-0ubuntu3.8) ...\n",
            "/sbin/ldconfig.real: /usr/local/lib/libumf.so.0 is not a symbolic link\n",
            "\n",
            "/sbin/ldconfig.real: /usr/local/lib/libur_loader.so.0 is not a symbolic link\n",
            "\n",
            "/sbin/ldconfig.real: /usr/local/lib/libtbb.so.12 is not a symbolic link\n",
            "\n",
            "/sbin/ldconfig.real: /usr/local/lib/libtbbbind_2_5.so.3 is not a symbolic link\n",
            "\n",
            "/sbin/ldconfig.real: /usr/local/lib/libtbbmalloc_proxy.so.2 is not a symbolic link\n",
            "\n",
            "/sbin/ldconfig.real: /usr/local/lib/libtcm_debug.so.1 is not a symbolic link\n",
            "\n",
            "/sbin/ldconfig.real: /usr/local/lib/libur_adapter_level_zero.so.0 is not a symbolic link\n",
            "\n",
            "/sbin/ldconfig.real: /usr/local/lib/libtbbbind_2_0.so.3 is not a symbolic link\n",
            "\n",
            "/sbin/ldconfig.real: /usr/local/lib/libtbbbind.so.3 is not a symbolic link\n",
            "\n",
            "/sbin/ldconfig.real: /usr/local/lib/libtbbmalloc.so.2 is not a symbolic link\n",
            "\n",
            "/sbin/ldconfig.real: /usr/local/lib/libtcm.so.1 is not a symbolic link\n",
            "\n",
            "/sbin/ldconfig.real: /usr/local/lib/libur_adapter_opencl.so.0 is not a symbolic link\n",
            "\n",
            "/sbin/ldconfig.real: /usr/local/lib/libhwloc.so.15 is not a symbolic link\n",
            "\n",
            "Processing triggers for man-db (2.10.2-1) ...\n",
            "Processing triggers for fontconfig (2.13.1-4.2ubuntu5) ...\n",
            "/usr/bin/ncrename\n",
            "/usr/bin/cdo\n",
            "/usr/bin/gdal_translate\n"
          ]
        }
      ],
      "source": [
        "# Installing necessary modules\n",
        "!apt update\n",
        "!apt install -y nco cdo gdal-bin\n",
        "!which ncrename\n",
        "!which cdo\n",
        "!which gdal_translate"
      ]
    },
    {
      "cell_type": "markdown",
      "metadata": {
        "id": "n3EG0vsS7Mgi"
      },
      "source": [
        "# Installing geoAnalytics package"
      ]
    },
    {
      "cell_type": "code",
      "execution_count": 2,
      "metadata": {
        "colab": {
          "base_uri": "https://localhost:8080/",
          "height": 1000
        },
        "id": "VI1IkRyV7Ojg",
        "outputId": "a08c1920-47b1-4c82-d0fb-4839b2e8503d"
      },
      "outputs": [
        {
          "output_type": "stream",
          "name": "stdout",
          "text": [
            "Collecting geoanalytics\n",
            "  Downloading geoanalytics-2025.6.12.3-py3-none-any.whl.metadata (16 kB)\n",
            "Requirement already satisfied: psutil in /usr/local/lib/python3.11/dist-packages (from geoanalytics) (5.9.5)\n",
            "Requirement already satisfied: pandas in /usr/local/lib/python3.11/dist-packages (from geoanalytics) (2.2.2)\n",
            "Requirement already satisfied: matplotlib in /usr/local/lib/python3.11/dist-packages (from geoanalytics) (3.10.0)\n",
            "Collecting resource (from geoanalytics)\n",
            "  Downloading Resource-0.2.1-py2.py3-none-any.whl.metadata (478 bytes)\n",
            "Collecting validators (from geoanalytics)\n",
            "  Downloading validators-0.35.0-py3-none-any.whl.metadata (3.9 kB)\n",
            "Requirement already satisfied: urllib3 in /usr/local/lib/python3.11/dist-packages (from geoanalytics) (2.4.0)\n",
            "Collecting psycopg2-binary (from geoanalytics)\n",
            "  Downloading psycopg2_binary-2.9.10-cp311-cp311-manylinux_2_17_x86_64.manylinux2014_x86_64.whl.metadata (4.9 kB)\n",
            "Requirement already satisfied: shapely in /usr/local/lib/python3.11/dist-packages (from geoanalytics) (2.1.1)\n",
            "Requirement already satisfied: tqdm in /usr/local/lib/python3.11/dist-packages (from geoanalytics) (4.67.1)\n",
            "Collecting mplcursors (from geoanalytics)\n",
            "  Downloading mplcursors-0.6-py3-none-any.whl.metadata (3.0 kB)\n",
            "Requirement already satisfied: scikit-learn in /usr/local/lib/python3.11/dist-packages (from geoanalytics) (1.6.1)\n",
            "Requirement already satisfied: plotly in /usr/local/lib/python3.11/dist-packages (from geoanalytics) (5.24.1)\n",
            "Requirement already satisfied: Pillow in /usr/local/lib/python3.11/dist-packages (from geoanalytics) (11.2.1)\n",
            "Requirement already satisfied: numpy in /usr/local/lib/python3.11/dist-packages (from geoanalytics) (2.0.2)\n",
            "Requirement already satisfied: sphinx in /usr/local/lib/python3.11/dist-packages (from geoanalytics) (8.2.3)\n",
            "Collecting sphinx-rtd-theme (from geoanalytics)\n",
            "  Downloading sphinx_rtd_theme-3.0.2-py2.py3-none-any.whl.metadata (4.4 kB)\n",
            "Collecting discord.py (from geoanalytics)\n",
            "  Downloading discord_py-2.5.2-py3-none-any.whl.metadata (7.4 kB)\n",
            "Requirement already satisfied: networkx in /usr/local/lib/python3.11/dist-packages (from geoanalytics) (3.5)\n",
            "Collecting deprecated (from geoanalytics)\n",
            "  Downloading Deprecated-1.2.18-py2.py3-none-any.whl.metadata (5.7 kB)\n",
            "Collecting fastparquet (from geoanalytics)\n",
            "  Downloading fastparquet-2024.11.0-cp311-cp311-manylinux_2_17_x86_64.manylinux2014_x86_64.whl.metadata (4.2 kB)\n",
            "Requirement already satisfied: numba in /usr/local/lib/python3.11/dist-packages (from geoanalytics) (0.60.0)\n",
            "Collecting pami (from geoanalytics)\n",
            "  Downloading pami-2025.3.25.1-py3-none-any.whl.metadata (80 kB)\n",
            "\u001b[2K     \u001b[90m━━━━━━━━━━━━━━━━━━━━━━━━━━━━━━━━━━━━━━━━\u001b[0m \u001b[32m80.3/80.3 kB\u001b[0m \u001b[31m3.0 MB/s\u001b[0m eta \u001b[36m0:00:00\u001b[0m\n",
            "\u001b[?25hCollecting rasterio (from geoanalytics)\n",
            "  Downloading rasterio-1.4.3-cp311-cp311-manylinux_2_17_x86_64.manylinux2014_x86_64.whl.metadata (9.1 kB)\n",
            "Requirement already satisfied: wrapt<2,>=1.10 in /usr/local/lib/python3.11/dist-packages (from deprecated->geoanalytics) (1.17.2)\n",
            "Requirement already satisfied: aiohttp<4,>=3.7.4 in /usr/local/lib/python3.11/dist-packages (from discord.py->geoanalytics) (3.11.15)\n",
            "Requirement already satisfied: cramjam>=2.3 in /usr/local/lib/python3.11/dist-packages (from fastparquet->geoanalytics) (2.10.0)\n",
            "Requirement already satisfied: fsspec in /usr/local/lib/python3.11/dist-packages (from fastparquet->geoanalytics) (2025.3.2)\n",
            "Requirement already satisfied: packaging in /usr/local/lib/python3.11/dist-packages (from fastparquet->geoanalytics) (24.2)\n",
            "Requirement already satisfied: python-dateutil>=2.8.2 in /usr/local/lib/python3.11/dist-packages (from pandas->geoanalytics) (2.9.0.post0)\n",
            "Requirement already satisfied: pytz>=2020.1 in /usr/local/lib/python3.11/dist-packages (from pandas->geoanalytics) (2025.2)\n",
            "Requirement already satisfied: tzdata>=2022.7 in /usr/local/lib/python3.11/dist-packages (from pandas->geoanalytics) (2025.2)\n",
            "Requirement already satisfied: contourpy>=1.0.1 in /usr/local/lib/python3.11/dist-packages (from matplotlib->geoanalytics) (1.3.2)\n",
            "Requirement already satisfied: cycler>=0.10 in /usr/local/lib/python3.11/dist-packages (from matplotlib->geoanalytics) (0.12.1)\n",
            "Requirement already satisfied: fonttools>=4.22.0 in /usr/local/lib/python3.11/dist-packages (from matplotlib->geoanalytics) (4.58.1)\n",
            "Requirement already satisfied: kiwisolver>=1.3.1 in /usr/local/lib/python3.11/dist-packages (from matplotlib->geoanalytics) (1.4.8)\n",
            "Requirement already satisfied: pyparsing>=2.3.1 in /usr/local/lib/python3.11/dist-packages (from matplotlib->geoanalytics) (3.2.3)\n",
            "Requirement already satisfied: llvmlite<0.44,>=0.43.0dev0 in /usr/local/lib/python3.11/dist-packages (from numba->geoanalytics) (0.43.0)\n",
            "Requirement already satisfied: tenacity>=6.2.0 in /usr/local/lib/python3.11/dist-packages (from plotly->geoanalytics) (9.1.2)\n",
            "Collecting affine (from rasterio->geoanalytics)\n",
            "  Downloading affine-2.4.0-py3-none-any.whl.metadata (4.0 kB)\n",
            "Requirement already satisfied: attrs in /usr/local/lib/python3.11/dist-packages (from rasterio->geoanalytics) (25.3.0)\n",
            "Requirement already satisfied: certifi in /usr/local/lib/python3.11/dist-packages (from rasterio->geoanalytics) (2025.4.26)\n",
            "Requirement already satisfied: click>=4.0 in /usr/local/lib/python3.11/dist-packages (from rasterio->geoanalytics) (8.2.1)\n",
            "Collecting cligj>=0.5 (from rasterio->geoanalytics)\n",
            "  Downloading cligj-0.7.2-py3-none-any.whl.metadata (5.0 kB)\n",
            "Collecting click-plugins (from rasterio->geoanalytics)\n",
            "  Downloading click_plugins-1.1.1-py2.py3-none-any.whl.metadata (6.4 kB)\n",
            "Collecting JsonForm>=0.0.2 (from resource->geoanalytics)\n",
            "  Downloading JsonForm-0.0.2.tar.gz (2.4 kB)\n",
            "  Preparing metadata (setup.py) ... \u001b[?25l\u001b[?25hdone\n",
            "Collecting JsonSir>=0.0.2 (from resource->geoanalytics)\n",
            "  Downloading JsonSir-0.0.2.tar.gz (2.2 kB)\n",
            "  Preparing metadata (setup.py) ... \u001b[?25l\u001b[?25hdone\n",
            "Collecting python-easyconfig>=0.1.0 (from resource->geoanalytics)\n",
            "  Downloading Python_EasyConfig-0.1.7-py2.py3-none-any.whl.metadata (462 bytes)\n",
            "Requirement already satisfied: scipy>=1.6.0 in /usr/local/lib/python3.11/dist-packages (from scikit-learn->geoanalytics) (1.15.3)\n",
            "Requirement already satisfied: joblib>=1.2.0 in /usr/local/lib/python3.11/dist-packages (from scikit-learn->geoanalytics) (1.5.1)\n",
            "Requirement already satisfied: threadpoolctl>=3.1.0 in /usr/local/lib/python3.11/dist-packages (from scikit-learn->geoanalytics) (3.6.0)\n",
            "Requirement already satisfied: sphinxcontrib-applehelp>=1.0.7 in /usr/local/lib/python3.11/dist-packages (from sphinx->geoanalytics) (2.0.0)\n",
            "Requirement already satisfied: sphinxcontrib-devhelp>=1.0.6 in /usr/local/lib/python3.11/dist-packages (from sphinx->geoanalytics) (2.0.0)\n",
            "Requirement already satisfied: sphinxcontrib-htmlhelp>=2.0.6 in /usr/local/lib/python3.11/dist-packages (from sphinx->geoanalytics) (2.1.0)\n",
            "Requirement already satisfied: sphinxcontrib-jsmath>=1.0.1 in /usr/local/lib/python3.11/dist-packages (from sphinx->geoanalytics) (1.0.1)\n",
            "Requirement already satisfied: sphinxcontrib-qthelp>=1.0.6 in /usr/local/lib/python3.11/dist-packages (from sphinx->geoanalytics) (2.0.0)\n",
            "Requirement already satisfied: sphinxcontrib-serializinghtml>=1.1.9 in /usr/local/lib/python3.11/dist-packages (from sphinx->geoanalytics) (2.0.0)\n",
            "Requirement already satisfied: Jinja2>=3.1 in /usr/local/lib/python3.11/dist-packages (from sphinx->geoanalytics) (3.1.6)\n",
            "Requirement already satisfied: Pygments>=2.17 in /usr/local/lib/python3.11/dist-packages (from sphinx->geoanalytics) (2.19.1)\n",
            "Requirement already satisfied: docutils<0.22,>=0.20 in /usr/local/lib/python3.11/dist-packages (from sphinx->geoanalytics) (0.21.2)\n",
            "Requirement already satisfied: snowballstemmer>=2.2 in /usr/local/lib/python3.11/dist-packages (from sphinx->geoanalytics) (3.0.1)\n",
            "Requirement already satisfied: babel>=2.13 in /usr/local/lib/python3.11/dist-packages (from sphinx->geoanalytics) (2.17.0)\n",
            "Requirement already satisfied: alabaster>=0.7.14 in /usr/local/lib/python3.11/dist-packages (from sphinx->geoanalytics) (1.0.0)\n",
            "Requirement already satisfied: imagesize>=1.3 in /usr/local/lib/python3.11/dist-packages (from sphinx->geoanalytics) (1.4.1)\n",
            "Requirement already satisfied: requests>=2.30.0 in /usr/local/lib/python3.11/dist-packages (from sphinx->geoanalytics) (2.32.3)\n",
            "Requirement already satisfied: roman-numerals-py>=1.0.0 in /usr/local/lib/python3.11/dist-packages (from sphinx->geoanalytics) (3.1.0)\n",
            "Collecting sphinxcontrib-jquery<5,>=4 (from sphinx-rtd-theme->geoanalytics)\n",
            "  Downloading sphinxcontrib_jquery-4.1-py2.py3-none-any.whl.metadata (2.6 kB)\n",
            "Requirement already satisfied: aiohappyeyeballs>=2.3.0 in /usr/local/lib/python3.11/dist-packages (from aiohttp<4,>=3.7.4->discord.py->geoanalytics) (2.6.1)\n",
            "Requirement already satisfied: aiosignal>=1.1.2 in /usr/local/lib/python3.11/dist-packages (from aiohttp<4,>=3.7.4->discord.py->geoanalytics) (1.3.2)\n",
            "Requirement already satisfied: frozenlist>=1.1.1 in /usr/local/lib/python3.11/dist-packages (from aiohttp<4,>=3.7.4->discord.py->geoanalytics) (1.6.0)\n",
            "Requirement already satisfied: multidict<7.0,>=4.5 in /usr/local/lib/python3.11/dist-packages (from aiohttp<4,>=3.7.4->discord.py->geoanalytics) (6.4.4)\n",
            "Requirement already satisfied: propcache>=0.2.0 in /usr/local/lib/python3.11/dist-packages (from aiohttp<4,>=3.7.4->discord.py->geoanalytics) (0.3.1)\n",
            "Requirement already satisfied: yarl<2.0,>=1.17.0 in /usr/local/lib/python3.11/dist-packages (from aiohttp<4,>=3.7.4->discord.py->geoanalytics) (1.20.0)\n",
            "Requirement already satisfied: MarkupSafe>=2.0 in /usr/local/lib/python3.11/dist-packages (from Jinja2>=3.1->sphinx->geoanalytics) (3.0.2)\n",
            "Requirement already satisfied: jsonschema in /usr/local/lib/python3.11/dist-packages (from JsonForm>=0.0.2->resource->geoanalytics) (4.24.0)\n",
            "Requirement already satisfied: six>=1.5 in /usr/local/lib/python3.11/dist-packages (from python-dateutil>=2.8.2->pandas->geoanalytics) (1.17.0)\n",
            "Requirement already satisfied: PyYAML in /usr/local/lib/python3.11/dist-packages (from python-easyconfig>=0.1.0->resource->geoanalytics) (6.0.2)\n",
            "Requirement already satisfied: charset-normalizer<4,>=2 in /usr/local/lib/python3.11/dist-packages (from requests>=2.30.0->sphinx->geoanalytics) (3.4.2)\n",
            "Requirement already satisfied: idna<4,>=2.5 in /usr/local/lib/python3.11/dist-packages (from requests>=2.30.0->sphinx->geoanalytics) (3.10)\n",
            "Requirement already satisfied: jsonschema-specifications>=2023.03.6 in /usr/local/lib/python3.11/dist-packages (from jsonschema->JsonForm>=0.0.2->resource->geoanalytics) (2025.4.1)\n",
            "Requirement already satisfied: referencing>=0.28.4 in /usr/local/lib/python3.11/dist-packages (from jsonschema->JsonForm>=0.0.2->resource->geoanalytics) (0.36.2)\n",
            "Requirement already satisfied: rpds-py>=0.7.1 in /usr/local/lib/python3.11/dist-packages (from jsonschema->JsonForm>=0.0.2->resource->geoanalytics) (0.25.1)\n",
            "Requirement already satisfied: typing-extensions>=4.4.0 in /usr/local/lib/python3.11/dist-packages (from referencing>=0.28.4->jsonschema->JsonForm>=0.0.2->resource->geoanalytics) (4.14.0)\n",
            "Downloading geoanalytics-2025.6.12.3-py3-none-any.whl (131 kB)\n",
            "\u001b[2K   \u001b[90m━━━━━━━━━━━━━━━━━━━━━━━━━━━━━━━━━━━━━━━━\u001b[0m \u001b[32m131.4/131.4 kB\u001b[0m \u001b[31m6.7 MB/s\u001b[0m eta \u001b[36m0:00:00\u001b[0m\n",
            "\u001b[?25hDownloading Deprecated-1.2.18-py2.py3-none-any.whl (10.0 kB)\n",
            "Downloading discord_py-2.5.2-py3-none-any.whl (1.2 MB)\n",
            "\u001b[2K   \u001b[90m━━━━━━━━━━━━━━━━━━━━━━━━━━━━━━━━━━━━━━━━\u001b[0m \u001b[32m1.2/1.2 MB\u001b[0m \u001b[31m27.0 MB/s\u001b[0m eta \u001b[36m0:00:00\u001b[0m\n",
            "\u001b[?25hDownloading fastparquet-2024.11.0-cp311-cp311-manylinux_2_17_x86_64.manylinux2014_x86_64.whl (1.8 MB)\n",
            "\u001b[2K   \u001b[90m━━━━━━━━━━━━━━━━━━━━━━━━━━━━━━━━━━━━━━━━\u001b[0m \u001b[32m1.8/1.8 MB\u001b[0m \u001b[31m60.8 MB/s\u001b[0m eta \u001b[36m0:00:00\u001b[0m\n",
            "\u001b[?25hDownloading mplcursors-0.6-py3-none-any.whl (20 kB)\n",
            "Downloading pami-2025.3.25.1-py3-none-any.whl (1.2 MB)\n",
            "\u001b[2K   \u001b[90m━━━━━━━━━━━━━━━━━━━━━━━━━━━━━━━━━━━━━━━━\u001b[0m \u001b[32m1.2/1.2 MB\u001b[0m \u001b[31m50.4 MB/s\u001b[0m eta \u001b[36m0:00:00\u001b[0m\n",
            "\u001b[?25hDownloading psycopg2_binary-2.9.10-cp311-cp311-manylinux_2_17_x86_64.manylinux2014_x86_64.whl (3.0 MB)\n",
            "\u001b[2K   \u001b[90m━━━━━━━━━━━━━━━━━━━━━━━━━━━━━━━━━━━━━━━━\u001b[0m \u001b[32m3.0/3.0 MB\u001b[0m \u001b[31m71.2 MB/s\u001b[0m eta \u001b[36m0:00:00\u001b[0m\n",
            "\u001b[?25hDownloading rasterio-1.4.3-cp311-cp311-manylinux_2_17_x86_64.manylinux2014_x86_64.whl (22.2 MB)\n",
            "\u001b[2K   \u001b[90m━━━━━━━━━━━━━━━━━━━━━━━━━━━━━━━━━━━━━━━━\u001b[0m \u001b[32m22.2/22.2 MB\u001b[0m \u001b[31m62.6 MB/s\u001b[0m eta \u001b[36m0:00:00\u001b[0m\n",
            "\u001b[?25hDownloading Resource-0.2.1-py2.py3-none-any.whl (25 kB)\n",
            "Downloading sphinx_rtd_theme-3.0.2-py2.py3-none-any.whl (7.7 MB)\n",
            "\u001b[2K   \u001b[90m━━━━━━━━━━━━━━━━━━━━━━━━━━━━━━━━━━━━━━━━\u001b[0m \u001b[32m7.7/7.7 MB\u001b[0m \u001b[31m64.9 MB/s\u001b[0m eta \u001b[36m0:00:00\u001b[0m\n",
            "\u001b[?25hDownloading validators-0.35.0-py3-none-any.whl (44 kB)\n",
            "\u001b[2K   \u001b[90m━━━━━━━━━━━━━━━━━━━━━━━━━━━━━━━━━━━━━━━━\u001b[0m \u001b[32m44.7/44.7 kB\u001b[0m \u001b[31m3.6 MB/s\u001b[0m eta \u001b[36m0:00:00\u001b[0m\n",
            "\u001b[?25hDownloading cligj-0.7.2-py3-none-any.whl (7.1 kB)\n",
            "Downloading Python_EasyConfig-0.1.7-py2.py3-none-any.whl (5.4 kB)\n",
            "Downloading sphinxcontrib_jquery-4.1-py2.py3-none-any.whl (121 kB)\n",
            "\u001b[2K   \u001b[90m━━━━━━━━━━━━━━━━━━━━━━━━━━━━━━━━━━━━━━━━\u001b[0m \u001b[32m121.1/121.1 kB\u001b[0m \u001b[31m8.3 MB/s\u001b[0m eta \u001b[36m0:00:00\u001b[0m\n",
            "\u001b[?25hDownloading affine-2.4.0-py3-none-any.whl (15 kB)\n",
            "Downloading click_plugins-1.1.1-py2.py3-none-any.whl (7.5 kB)\n",
            "Building wheels for collected packages: JsonForm, JsonSir\n",
            "  Building wheel for JsonForm (setup.py) ... \u001b[?25l\u001b[?25hdone\n",
            "  Created wheel for JsonForm: filename=JsonForm-0.0.2-py3-none-any.whl size=3311 sha256=7b5a435633512e733cc62fd46d725043097a0bc491e232a245befc22b5d89b9e\n",
            "  Stored in directory: /root/.cache/pip/wheels/ee/53/ac/c77344bd941889aa16ad694cb203ee587de1749e973ba9fdb8\n",
            "  Building wheel for JsonSir (setup.py) ... \u001b[?25l\u001b[?25hdone\n",
            "  Created wheel for JsonSir: filename=JsonSir-0.0.2-py3-none-any.whl size=4754 sha256=4fef2ed12d39bde480f66060b412d2f3f521785fbb358a87f5c8405f5270da80\n",
            "  Stored in directory: /root/.cache/pip/wheels/d0/92/1d/bdf54bd7aefaf8305526450e3337733509b755328692619664\n",
            "Successfully built JsonForm JsonSir\n",
            "Installing collected packages: JsonSir, validators, python-easyconfig, psycopg2-binary, deprecated, cligj, click-plugins, affine, rasterio, sphinxcontrib-jquery, mplcursors, fastparquet, discord.py, sphinx-rtd-theme, JsonForm, resource, pami, geoanalytics\n",
            "Successfully installed JsonForm-0.0.2 JsonSir-0.0.2 affine-2.4.0 click-plugins-1.1.1 cligj-0.7.2 deprecated-1.2.18 discord.py-2.5.2 fastparquet-2024.11.0 geoanalytics-2025.6.12.3 mplcursors-0.6 pami-2025.3.25.1 psycopg2-binary-2.9.10 python-easyconfig-0.1.7 rasterio-1.4.3 resource-0.2.1 sphinx-rtd-theme-3.0.2 sphinxcontrib-jquery-4.1 validators-0.35.0\n"
          ]
        },
        {
          "output_type": "display_data",
          "data": {
            "application/vnd.colab-display-data+json": {
              "pip_warning": {
                "packages": [
                  "sphinxcontrib"
                ]
              },
              "id": "7f2fbee637df4d809118ae1837f06acb"
            }
          },
          "metadata": {}
        }
      ],
      "source": [
        "!pip install -U geoanalytics"
      ]
    },
    {
      "cell_type": "markdown",
      "metadata": {
        "id": "DzisnT4f7RXk"
      },
      "source": [
        "# Knowing the information of geoAnalytics package"
      ]
    },
    {
      "cell_type": "code",
      "execution_count": 3,
      "metadata": {
        "colab": {
          "base_uri": "https://localhost:8080/"
        },
        "id": "nmZ3z3ZY7S1K",
        "outputId": "d321b2c8-b818-4984-de7b-bab4021aaecc"
      },
      "outputs": [
        {
          "output_type": "stream",
          "name": "stdout",
          "text": [
            "Name: geoanalytics\n",
            "Version: 2025.6.12.3\n",
            "Summary: This software is being developed at the University of Aizu, Aizu-Wakamatsu, Fukushima, Japan\n",
            "Home-page: https://github.com/UdayLab/geoanalytics\n",
            "Author: \n",
            "Author-email: Rage Uday Kiran <uday.rage@gmail.com>\n",
            "License: GPLv3\n",
            "Location: /usr/local/lib/python3.11/dist-packages\n",
            "Requires: deprecated, discord.py, fastparquet, matplotlib, mplcursors, networkx, numba, numpy, pami, pandas, Pillow, plotly, psutil, psycopg2-binary, rasterio, resource, scikit-learn, shapely, sphinx, sphinx-rtd-theme, tqdm, urllib3, validators\n",
            "Required-by: \n"
          ]
        }
      ],
      "source": [
        "pip show geoanalytics"
      ]
    },
    {
      "cell_type": "markdown",
      "metadata": {
        "id": "2Ondv0PG7Xj7"
      },
      "source": [
        "## Download any dataset with extension of both .img and .lbl from the below link"
      ]
    },
    {
      "cell_type": "markdown",
      "metadata": {
        "id": "XGvA6TTp7cRF"
      },
      "source": [
        "Link --> https://data.darts.isas.jaxa.jp/pub/pds3/sln-l-mi-5-map-v3.0/\n",
        "\n",
        "Example Direction : --> https://data.darts.isas.jaxa.jp/pub/pds3/sln-l-mi-5-map-v3.0/lon035/data/"
      ]
    },
    {
      "cell_type": "markdown",
      "metadata": {
        "id": "uf88uNcz7fh3"
      },
      "source": [
        "## Use !wget command to download the `.img` and `.lbl` files"
      ]
    },
    {
      "cell_type": "code",
      "execution_count": 10,
      "metadata": {
        "colab": {
          "base_uri": "https://localhost:8080/"
        },
        "id": "jx_Fgif26tL9",
        "outputId": "e3ae72d9-cd4d-4f4d-8cd5-8d4c462a4f17"
      },
      "outputs": [
        {
          "output_type": "stream",
          "name": "stdout",
          "text": [
            "--2025-06-12 06:10:17--  https://data.darts.isas.jaxa.jp/pub/pds3/sln-l-mi-5-map-v3.0/lon035/data/MI_MAP_03_S16E035S17E036SC.img\n",
            "Resolving data.darts.isas.jaxa.jp (data.darts.isas.jaxa.jp)... 159.60.133.108\n",
            "Connecting to data.darts.isas.jaxa.jp (data.darts.isas.jaxa.jp)|159.60.133.108|:443... connected.\n",
            "HTTP request sent, awaiting response... 200 OK\n",
            "Length: 92274688 (88M) [application/octet-stream]\n",
            "Saving to: ‘MI_MAP_03_S16E035S17E036SC.img’\n",
            "\n",
            "MI_MAP_03_S16E035S1 100%[===================>]  88.00M   146KB/s    in 8m 54s  \n",
            "\n",
            "2025-06-12 06:19:12 (169 KB/s) - ‘MI_MAP_03_S16E035S17E036SC.img’ saved [92274688/92274688]\n",
            "\n"
          ]
        }
      ],
      "source": [
        "# Download any files by using the wget command\n",
        "!wget https://data.darts.isas.jaxa.jp/pub/pds3/sln-l-mi-5-map-v3.0/lon035/data/MI_MAP_03_S16E035S17E036SC.img"
      ]
    },
    {
      "cell_type": "code",
      "execution_count": 5,
      "metadata": {
        "colab": {
          "base_uri": "https://localhost:8080/"
        },
        "id": "Pr3LtTXU6u9z",
        "outputId": "eb47feca-596d-482a-d996-a8f907fa08d9"
      },
      "outputs": [
        {
          "output_type": "stream",
          "name": "stdout",
          "text": [
            "--2025-06-12 06:09:22--  https://data.darts.isas.jaxa.jp/pub/pds3/sln-l-mi-5-map-v3.0/lon035/data/MI_MAP_03_S16E035S17E036SC.lbl\n",
            "Resolving data.darts.isas.jaxa.jp (data.darts.isas.jaxa.jp)... 159.60.133.108\n",
            "Connecting to data.darts.isas.jaxa.jp (data.darts.isas.jaxa.jp)|159.60.133.108|:443... connected.\n",
            "HTTP request sent, awaiting response... 503 Service Unavailable\n",
            "2025-06-12 06:09:42 ERROR 503: Service Unavailable.\n",
            "\n"
          ]
        }
      ],
      "source": [
        "!wget https://data.darts.isas.jaxa.jp/pub/pds3/sln-l-mi-5-map-v3.0/lon035/data/MI_MAP_03_S16E035S17E036SC.lbl"
      ]
    },
    {
      "cell_type": "markdown",
      "metadata": {
        "id": "FRpsZML98DDa"
      },
      "source": [
        "# **Operatioin 1: Raster to CSV**"
      ]
    },
    {
      "cell_type": "markdown",
      "metadata": {
        "id": "32ffvCN48Hcv"
      },
      "source": [
        "## ***Step1: Import RasterToTSV package from geoAnalytics.conversion***"
      ]
    },
    {
      "cell_type": "code",
      "execution_count": 6,
      "metadata": {
        "id": "nqUs2YMG6x2p"
      },
      "outputs": [],
      "source": [
        "# Import Raster To TSV package\n",
        "from geoanalytics.conversion import Raster2CSV"
      ]
    },
    {
      "cell_type": "markdown",
      "metadata": {
        "id": "SKp_KIvn8UQ9"
      },
      "source": [
        "## ***Step2: Pass the lbl file as input and give desired outputFile name also specify the inputband value as well as ouput band value***"
      ]
    },
    {
      "cell_type": "code",
      "execution_count": 7,
      "metadata": {
        "id": "QoxjyzNk8Mmf"
      },
      "outputs": [],
      "source": [
        "# Specify startBand = 1\n",
        "# Specify endBand = 9\n",
        "converter = Raster2CSV.Raster2CSV(inputFile='MI_MAP_03_S16E035S17E036SC.lbl', outputFile='Moon.csv', startBand=1, endBand=9)"
      ]
    },
    {
      "cell_type": "markdown",
      "metadata": {
        "id": "HnH9s5zT8akK"
      },
      "source": [
        "## ***Step3: Conver the raster file into a CSV file***"
      ]
    },
    {
      "cell_type": "code",
      "execution_count": 16,
      "metadata": {
        "id": "4TlrzcYk8QXd",
        "colab": {
          "base_uri": "https://localhost:8080/",
          "height": 179
        },
        "outputId": "f2c32feb-2f30-4e5b-b36b-fc697d6bb2f4"
      },
      "outputs": [
        {
          "output_type": "stream",
          "name": "stdout",
          "text": [
            "Processing: MI_MAP_03_S16E035S17E036SC.lbl\n",
            "Could not open MI_MAP_03_S16E035S17E036SC.lbl.\n"
          ]
        },
        {
          "output_type": "error",
          "ename": "SystemExit",
          "evalue": "1",
          "traceback": [
            "An exception has occurred, use %tb to see the full traceback.\n",
            "\u001b[0;31mSystemExit\u001b[0m\u001b[0;31m:\u001b[0m 1\n"
          ]
        },
        {
          "output_type": "stream",
          "name": "stderr",
          "text": [
            "/usr/local/lib/python3.11/dist-packages/IPython/core/interactiveshell.py:3561: UserWarning: To exit: use 'exit', 'quit', or Ctrl-D.\n",
            "  warn(\"To exit: use 'exit', 'quit', or Ctrl-D.\", stacklevel=1)\n"
          ]
        }
      ],
      "source": [
        "# convert using run() method\n",
        "converter.run()"
      ]
    },
    {
      "cell_type": "markdown",
      "metadata": {
        "id": "NxbGRHyy8fwV"
      },
      "source": [
        "# **Operation 2 : Clustering the Data**"
      ]
    },
    {
      "cell_type": "markdown",
      "metadata": {
        "id": "qQJSfiwH8iyu"
      },
      "source": [
        "## ***Step 1: Read the obtained CSV into a dataframe***"
      ]
    },
    {
      "cell_type": "code",
      "execution_count": 15,
      "metadata": {
        "id": "gPDE0nR68RsP",
        "colab": {
          "base_uri": "https://localhost:8080/",
          "height": 391
        },
        "outputId": "c9fc403e-659d-452f-aa72-8389929d409f"
      },
      "outputs": [
        {
          "output_type": "error",
          "ename": "FileNotFoundError",
          "evalue": "[Errno 2] No such file or directory: 'Moon.csv'",
          "traceback": [
            "\u001b[0;31m---------------------------------------------------------------------------\u001b[0m",
            "\u001b[0;31mFileNotFoundError\u001b[0m                         Traceback (most recent call last)",
            "\u001b[0;32m<ipython-input-15-2752483494>\u001b[0m in \u001b[0;36m<cell line: 0>\u001b[0;34m()\u001b[0m\n\u001b[1;32m      2\u001b[0m \u001b[0;32mimport\u001b[0m \u001b[0mpandas\u001b[0m \u001b[0;32mas\u001b[0m \u001b[0mpd\u001b[0m\u001b[0;34m\u001b[0m\u001b[0;34m\u001b[0m\u001b[0m\n\u001b[1;32m      3\u001b[0m \u001b[0;31m# read the dataframe with separator as \"tab\" space\u001b[0m\u001b[0;34m\u001b[0m\u001b[0;34m\u001b[0m\u001b[0m\n\u001b[0;32m----> 4\u001b[0;31m \u001b[0mdf\u001b[0m \u001b[0;34m=\u001b[0m \u001b[0mpd\u001b[0m\u001b[0;34m.\u001b[0m\u001b[0mread_csv\u001b[0m\u001b[0;34m(\u001b[0m\u001b[0;34m'Moon.csv'\u001b[0m\u001b[0;34m,\u001b[0m \u001b[0msep\u001b[0m\u001b[0;34m=\u001b[0m\u001b[0;34m'\\t'\u001b[0m\u001b[0;34m)\u001b[0m\u001b[0;34m\u001b[0m\u001b[0;34m\u001b[0m\u001b[0m\n\u001b[0m\u001b[1;32m      5\u001b[0m \u001b[0;31m# show the dataframe\u001b[0m\u001b[0;34m\u001b[0m\u001b[0;34m\u001b[0m\u001b[0m\n\u001b[1;32m      6\u001b[0m \u001b[0mdf\u001b[0m\u001b[0;34m\u001b[0m\u001b[0;34m\u001b[0m\u001b[0m\n",
            "\u001b[0;32m/usr/local/lib/python3.11/dist-packages/pandas/io/parsers/readers.py\u001b[0m in \u001b[0;36mread_csv\u001b[0;34m(filepath_or_buffer, sep, delimiter, header, names, index_col, usecols, dtype, engine, converters, true_values, false_values, skipinitialspace, skiprows, skipfooter, nrows, na_values, keep_default_na, na_filter, verbose, skip_blank_lines, parse_dates, infer_datetime_format, keep_date_col, date_parser, date_format, dayfirst, cache_dates, iterator, chunksize, compression, thousands, decimal, lineterminator, quotechar, quoting, doublequote, escapechar, comment, encoding, encoding_errors, dialect, on_bad_lines, delim_whitespace, low_memory, memory_map, float_precision, storage_options, dtype_backend)\u001b[0m\n\u001b[1;32m   1024\u001b[0m     \u001b[0mkwds\u001b[0m\u001b[0;34m.\u001b[0m\u001b[0mupdate\u001b[0m\u001b[0;34m(\u001b[0m\u001b[0mkwds_defaults\u001b[0m\u001b[0;34m)\u001b[0m\u001b[0;34m\u001b[0m\u001b[0;34m\u001b[0m\u001b[0m\n\u001b[1;32m   1025\u001b[0m \u001b[0;34m\u001b[0m\u001b[0m\n\u001b[0;32m-> 1026\u001b[0;31m     \u001b[0;32mreturn\u001b[0m \u001b[0m_read\u001b[0m\u001b[0;34m(\u001b[0m\u001b[0mfilepath_or_buffer\u001b[0m\u001b[0;34m,\u001b[0m \u001b[0mkwds\u001b[0m\u001b[0;34m)\u001b[0m\u001b[0;34m\u001b[0m\u001b[0;34m\u001b[0m\u001b[0m\n\u001b[0m\u001b[1;32m   1027\u001b[0m \u001b[0;34m\u001b[0m\u001b[0m\n\u001b[1;32m   1028\u001b[0m \u001b[0;34m\u001b[0m\u001b[0m\n",
            "\u001b[0;32m/usr/local/lib/python3.11/dist-packages/pandas/io/parsers/readers.py\u001b[0m in \u001b[0;36m_read\u001b[0;34m(filepath_or_buffer, kwds)\u001b[0m\n\u001b[1;32m    618\u001b[0m \u001b[0;34m\u001b[0m\u001b[0m\n\u001b[1;32m    619\u001b[0m     \u001b[0;31m# Create the parser.\u001b[0m\u001b[0;34m\u001b[0m\u001b[0;34m\u001b[0m\u001b[0m\n\u001b[0;32m--> 620\u001b[0;31m     \u001b[0mparser\u001b[0m \u001b[0;34m=\u001b[0m \u001b[0mTextFileReader\u001b[0m\u001b[0;34m(\u001b[0m\u001b[0mfilepath_or_buffer\u001b[0m\u001b[0;34m,\u001b[0m \u001b[0;34m**\u001b[0m\u001b[0mkwds\u001b[0m\u001b[0;34m)\u001b[0m\u001b[0;34m\u001b[0m\u001b[0;34m\u001b[0m\u001b[0m\n\u001b[0m\u001b[1;32m    621\u001b[0m \u001b[0;34m\u001b[0m\u001b[0m\n\u001b[1;32m    622\u001b[0m     \u001b[0;32mif\u001b[0m \u001b[0mchunksize\u001b[0m \u001b[0;32mor\u001b[0m \u001b[0miterator\u001b[0m\u001b[0;34m:\u001b[0m\u001b[0;34m\u001b[0m\u001b[0;34m\u001b[0m\u001b[0m\n",
            "\u001b[0;32m/usr/local/lib/python3.11/dist-packages/pandas/io/parsers/readers.py\u001b[0m in \u001b[0;36m__init__\u001b[0;34m(self, f, engine, **kwds)\u001b[0m\n\u001b[1;32m   1618\u001b[0m \u001b[0;34m\u001b[0m\u001b[0m\n\u001b[1;32m   1619\u001b[0m         \u001b[0mself\u001b[0m\u001b[0;34m.\u001b[0m\u001b[0mhandles\u001b[0m\u001b[0;34m:\u001b[0m \u001b[0mIOHandles\u001b[0m \u001b[0;34m|\u001b[0m \u001b[0;32mNone\u001b[0m \u001b[0;34m=\u001b[0m \u001b[0;32mNone\u001b[0m\u001b[0;34m\u001b[0m\u001b[0;34m\u001b[0m\u001b[0m\n\u001b[0;32m-> 1620\u001b[0;31m         \u001b[0mself\u001b[0m\u001b[0;34m.\u001b[0m\u001b[0m_engine\u001b[0m \u001b[0;34m=\u001b[0m \u001b[0mself\u001b[0m\u001b[0;34m.\u001b[0m\u001b[0m_make_engine\u001b[0m\u001b[0;34m(\u001b[0m\u001b[0mf\u001b[0m\u001b[0;34m,\u001b[0m \u001b[0mself\u001b[0m\u001b[0;34m.\u001b[0m\u001b[0mengine\u001b[0m\u001b[0;34m)\u001b[0m\u001b[0;34m\u001b[0m\u001b[0;34m\u001b[0m\u001b[0m\n\u001b[0m\u001b[1;32m   1621\u001b[0m \u001b[0;34m\u001b[0m\u001b[0m\n\u001b[1;32m   1622\u001b[0m     \u001b[0;32mdef\u001b[0m \u001b[0mclose\u001b[0m\u001b[0;34m(\u001b[0m\u001b[0mself\u001b[0m\u001b[0;34m)\u001b[0m \u001b[0;34m->\u001b[0m \u001b[0;32mNone\u001b[0m\u001b[0;34m:\u001b[0m\u001b[0;34m\u001b[0m\u001b[0;34m\u001b[0m\u001b[0m\n",
            "\u001b[0;32m/usr/local/lib/python3.11/dist-packages/pandas/io/parsers/readers.py\u001b[0m in \u001b[0;36m_make_engine\u001b[0;34m(self, f, engine)\u001b[0m\n\u001b[1;32m   1878\u001b[0m                 \u001b[0;32mif\u001b[0m \u001b[0;34m\"b\"\u001b[0m \u001b[0;32mnot\u001b[0m \u001b[0;32min\u001b[0m \u001b[0mmode\u001b[0m\u001b[0;34m:\u001b[0m\u001b[0;34m\u001b[0m\u001b[0;34m\u001b[0m\u001b[0m\n\u001b[1;32m   1879\u001b[0m                     \u001b[0mmode\u001b[0m \u001b[0;34m+=\u001b[0m \u001b[0;34m\"b\"\u001b[0m\u001b[0;34m\u001b[0m\u001b[0;34m\u001b[0m\u001b[0m\n\u001b[0;32m-> 1880\u001b[0;31m             self.handles = get_handle(\n\u001b[0m\u001b[1;32m   1881\u001b[0m                 \u001b[0mf\u001b[0m\u001b[0;34m,\u001b[0m\u001b[0;34m\u001b[0m\u001b[0;34m\u001b[0m\u001b[0m\n\u001b[1;32m   1882\u001b[0m                 \u001b[0mmode\u001b[0m\u001b[0;34m,\u001b[0m\u001b[0;34m\u001b[0m\u001b[0;34m\u001b[0m\u001b[0m\n",
            "\u001b[0;32m/usr/local/lib/python3.11/dist-packages/pandas/io/common.py\u001b[0m in \u001b[0;36mget_handle\u001b[0;34m(path_or_buf, mode, encoding, compression, memory_map, is_text, errors, storage_options)\u001b[0m\n\u001b[1;32m    871\u001b[0m         \u001b[0;32mif\u001b[0m \u001b[0mioargs\u001b[0m\u001b[0;34m.\u001b[0m\u001b[0mencoding\u001b[0m \u001b[0;32mand\u001b[0m \u001b[0;34m\"b\"\u001b[0m \u001b[0;32mnot\u001b[0m \u001b[0;32min\u001b[0m \u001b[0mioargs\u001b[0m\u001b[0;34m.\u001b[0m\u001b[0mmode\u001b[0m\u001b[0;34m:\u001b[0m\u001b[0;34m\u001b[0m\u001b[0;34m\u001b[0m\u001b[0m\n\u001b[1;32m    872\u001b[0m             \u001b[0;31m# Encoding\u001b[0m\u001b[0;34m\u001b[0m\u001b[0;34m\u001b[0m\u001b[0m\n\u001b[0;32m--> 873\u001b[0;31m             handle = open(\n\u001b[0m\u001b[1;32m    874\u001b[0m                 \u001b[0mhandle\u001b[0m\u001b[0;34m,\u001b[0m\u001b[0;34m\u001b[0m\u001b[0;34m\u001b[0m\u001b[0m\n\u001b[1;32m    875\u001b[0m                 \u001b[0mioargs\u001b[0m\u001b[0;34m.\u001b[0m\u001b[0mmode\u001b[0m\u001b[0;34m,\u001b[0m\u001b[0;34m\u001b[0m\u001b[0;34m\u001b[0m\u001b[0m\n",
            "\u001b[0;31mFileNotFoundError\u001b[0m: [Errno 2] No such file or directory: 'Moon.csv'"
          ]
        }
      ],
      "source": [
        "# import pandas\n",
        "import pandas as pd\n",
        "# read the dataframe with separator as \"tab\" space\n",
        "df = pd.read_csv('Moon.csv', sep='\\t')\n",
        "# show the dataframe\n",
        "df"
      ]
    },
    {
      "cell_type": "markdown",
      "metadata": {
        "id": "ZIGz_Cmu8pIe"
      },
      "source": [
        "## ***Step2: Import any clustering algorithm from geoanalytics.clustering***"
      ]
    },
    {
      "cell_type": "code",
      "execution_count": null,
      "metadata": {
        "id": "o4Slb_Xc8mL5"
      },
      "outputs": [],
      "source": [
        "# Import the Gaussianmixture algorithm\n",
        "from geoanalytics.clustering import Gaussianmixture\n",
        "# Pass the dataframe into the clustering algorithm\n",
        "obj = Gaussianmixture.Gaussianmixture(dataframe=df)"
      ]
    },
    {
      "cell_type": "markdown",
      "metadata": {
        "id": "Z-FxGZvj8vpq"
      },
      "source": [
        "## ***Step3: Execute the run() method to cluster the data***"
      ]
    },
    {
      "cell_type": "markdown",
      "metadata": {
        "id": "ELaB3nRe8zPW"
      },
      "source": [
        "### ***Also specify the parameters such as `n_components`, `max_iters` and `random_state` etc,.***"
      ]
    },
    {
      "cell_type": "code",
      "execution_count": null,
      "metadata": {
        "id": "qLbUcXe_8s3S"
      },
      "outputs": [],
      "source": [
        "# Assign \"labels\", \"weights\" and \"means\" as output variable names. Since our algorithm is going to return three components respectively\n",
        "labels, weights, means = obj.run(n_components=4, max_iters=100, covariance_type=\"full\", init_params='kmeans', random_state=0)"
      ]
    },
    {
      "cell_type": "markdown",
      "metadata": {
        "id": "V1jBgpPo9FcO"
      },
      "source": [
        "## ***Step4: Print the labels***"
      ]
    },
    {
      "cell_type": "code",
      "execution_count": null,
      "metadata": {
        "id": "PQdlUput9KeN"
      },
      "outputs": [],
      "source": [
        "labels"
      ]
    },
    {
      "cell_type": "markdown",
      "metadata": {
        "id": "y3NYdPIN9FZZ"
      },
      "source": [
        "## ***Step5: Print the weights***"
      ]
    },
    {
      "cell_type": "code",
      "execution_count": null,
      "metadata": {
        "id": "CRiMi4-D9Pxp"
      },
      "outputs": [],
      "source": [
        "weights"
      ]
    },
    {
      "cell_type": "markdown",
      "metadata": {
        "id": "16eGQ3Ih9FWG"
      },
      "source": [
        "## ***Step6: Print the means***"
      ]
    },
    {
      "cell_type": "code",
      "execution_count": null,
      "metadata": {
        "id": "RGcFmRTA9CY1"
      },
      "outputs": [],
      "source": [
        "means"
      ]
    },
    {
      "cell_type": "markdown",
      "metadata": {
        "id": "ZMkXBWdw9X0L"
      },
      "source": [
        "## ***Step7: To know the run time and memory consumption of Algorithm, print the statistical values***"
      ]
    },
    {
      "cell_type": "code",
      "execution_count": null,
      "metadata": {
        "id": "n7FtISIv9V1v"
      },
      "outputs": [],
      "source": [
        "# Get the run time\n",
        "obj.getRuntime()\n",
        "# Get the Memory in RSS\n",
        "obj.getMemoryRSS()\n",
        "# Get the memory in USS\n",
        "obj.getMemoryUSS()"
      ]
    },
    {
      "cell_type": "markdown",
      "metadata": {
        "id": "1bWoLC8B9eMH"
      },
      "source": [
        "## ***Step8: Save the labels, weights and means***"
      ]
    },
    {
      "cell_type": "code",
      "execution_count": null,
      "metadata": {
        "id": "U-r1tMsK9cJ8"
      },
      "outputs": [],
      "source": [
        "# Specify the output names for labels, weights and Means respectively\n",
        "obj.save(outputFileLabels='GaussianMixtureLabels.csv', outputFileWeights='GaussianMixtureWeights.csv', outputFileMeans='GaussianMixtureMeans.csv')"
      ]
    },
    {
      "cell_type": "markdown",
      "metadata": {
        "id": "Myxi0VFe9kvh"
      },
      "source": [
        "# **Operation3: CSV to Raster**"
      ]
    },
    {
      "cell_type": "markdown",
      "metadata": {
        "id": "WYGkk_IS9n7L"
      },
      "source": [
        "## ***Step1: Import CSV2Raster from geoanalytics.conversion***"
      ]
    },
    {
      "cell_type": "code",
      "execution_count": null,
      "metadata": {
        "id": "7cM7mMmr9hh2"
      },
      "outputs": [],
      "source": [
        "from geoanalytics.conversion import CSV2Raster as CSV2Raster"
      ]
    },
    {
      "cell_type": "markdown",
      "metadata": {
        "id": "YLBgjkQV9vzt"
      },
      "source": [
        "## ***Step2: Pass the dataFrame and give desired outputFile name***"
      ]
    },
    {
      "cell_type": "code",
      "execution_count": null,
      "metadata": {
        "id": "qnSIWLX09rcU"
      },
      "outputs": [],
      "source": [
        "# Pass the labels as a dataframe\n",
        "process = CSV2Raster.CSV2Raster(dataframe=labels,outputFile='GaussianMixture.tiff')"
      ]
    },
    {
      "cell_type": "markdown",
      "metadata": {
        "id": "PNSyzLxq93Bf"
      },
      "source": [
        "## **Step3: Execute the run() method**"
      ]
    },
    {
      "cell_type": "code",
      "execution_count": null,
      "metadata": {
        "id": "tgmqbwcF91O_"
      },
      "outputs": [],
      "source": [
        "process.run()"
      ]
    },
    {
      "cell_type": "markdown",
      "metadata": {
        "id": "OWWW2-VD-HoI"
      },
      "source": [
        "# **Operation 4: Visualization**"
      ]
    },
    {
      "cell_type": "markdown",
      "metadata": {
        "id": "NJmA_njK-MLO"
      },
      "source": [
        "## ***Step1: Import TiffViewer from geoanalytics.visualization***"
      ]
    },
    {
      "cell_type": "code",
      "execution_count": null,
      "metadata": {
        "id": "Zd51fq_o-Ph9"
      },
      "outputs": [],
      "source": [
        "# Import the TiffViewer module\n",
        "from geoanalytics.visualization import TiffViewer"
      ]
    },
    {
      "cell_type": "markdown",
      "metadata": {
        "id": "qJRvY6G--T-_"
      },
      "source": [
        "## ***Step2: Input the RasterFile or pass it into the parameter***"
      ]
    },
    {
      "cell_type": "code",
      "execution_count": null,
      "metadata": {
        "id": "qjvA0Kyx-Sa6"
      },
      "outputs": [],
      "source": [
        "viewer = TiffViewer.TiffViewer(inputFile='GaussianMixture.tiff')"
      ]
    },
    {
      "cell_type": "markdown",
      "metadata": {
        "id": "_3ocCECM-X3y"
      },
      "source": [
        "## ***Step3: Display the image with desired scaling map***"
      ]
    },
    {
      "cell_type": "markdown",
      "metadata": {
        "id": "m7aXFqZf-b6O"
      },
      "source": [
        "##### ***1. gray scale***"
      ]
    },
    {
      "cell_type": "code",
      "execution_count": null,
      "metadata": {
        "id": "Q68ZFnG_-WlB"
      },
      "outputs": [],
      "source": [
        "# Specify  the cmap --> \"gray\" & title --> (Optional)\n",
        "viewer.run(cmap='gray', title='TIFF Image')"
      ]
    },
    {
      "cell_type": "markdown",
      "metadata": {
        "id": "f43lwoGz-hUa"
      },
      "source": [
        "##### ***2. Jet Scale***"
      ]
    },
    {
      "cell_type": "code",
      "execution_count": null,
      "metadata": {
        "id": "Jb3ULox9-fhc"
      },
      "outputs": [],
      "source": [
        "# Specify  the cmap --> \"jet\" & title --> (Optional)\n",
        "viewer.run(cmap='jet', title='TIFF Image')"
      ]
    },
    {
      "cell_type": "markdown",
      "metadata": {
        "id": "Jk2Kz5ny-nxD"
      },
      "source": [
        "# **Operation 4: Pattern Mining**"
      ]
    },
    {
      "cell_type": "markdown",
      "metadata": {
        "id": "FAWX9N96-swd"
      },
      "source": [
        "## ***Step1: Converting Raster Dataframe into a Database***"
      ]
    },
    {
      "cell_type": "code",
      "execution_count": null,
      "metadata": {
        "id": "tGMh4gaR_ERx"
      },
      "outputs": [],
      "source": [
        "# Install PAMI library for Pattern Mining\n",
        "!pip install PAMI"
      ]
    },
    {
      "cell_type": "markdown",
      "source": [
        "#### ***Reducing the size of our dataframe***\n",
        "#### ***Because it will consume a lot of time and memory***"
      ],
      "metadata": {
        "id": "5T8UVw4Ik1f-"
      }
    },
    {
      "cell_type": "code",
      "source": [
        "# Select only the first 1000 pixels in the Raster File\n",
        "df = df.iloc[:1000,:]"
      ],
      "metadata": {
        "id": "v1sdevmEkc97"
      },
      "execution_count": null,
      "outputs": []
    },
    {
      "cell_type": "markdown",
      "metadata": {
        "id": "BosmkOhDC34M"
      },
      "source": [
        "### ***Step 1.1: Import RasterDF2DB from geoanalytics.conversion***"
      ]
    },
    {
      "cell_type": "code",
      "execution_count": null,
      "metadata": {
        "id": "CKc20Z_6-keO"
      },
      "outputs": [],
      "source": [
        "from geoanalytics.conversion import RasterDF2DB"
      ]
    },
    {
      "cell_type": "code",
      "execution_count": null,
      "metadata": {
        "id": "R0HTYMTF_BPP"
      },
      "outputs": [],
      "source": [
        "# Pass the dataframe as input dataframe\n",
        "obj = RasterDF2DB.RasterDF2DB(dataframe=df)"
      ]
    },
    {
      "cell_type": "markdown",
      "source": [
        "### ***Step 1.2: Prepare the Transactional Dataframe***"
      ],
      "metadata": {
        "id": "CVJxRUvslI22"
      }
    },
    {
      "cell_type": "code",
      "execution_count": null,
      "metadata": {
        "id": "pFCcUxKh_Sy_"
      },
      "outputs": [],
      "source": [
        "obj.prepareTransactionalDataframe()"
      ]
    },
    {
      "cell_type": "markdown",
      "source": [
        "### ***Step 1.3: Give the desired output  `DBname` and `condition` along with `thresholdValue`***"
      ],
      "metadata": {
        "id": "j6Axcms3qaXG"
      }
    },
    {
      "cell_type": "code",
      "execution_count": null,
      "metadata": {
        "id": "YqyfTgd-_VDU"
      },
      "outputs": [],
      "source": [
        "# Select the pixels which has their band value more than or equal to 4000\n",
        "obj.convertToTransactionalDB(DBname='transactionalDB.csv', condition='>=', thresholdValue=4000)"
      ]
    },
    {
      "cell_type": "markdown",
      "source": [
        "##### **Print the head of the Transactional Database**"
      ],
      "metadata": {
        "id": "_AminpR5q6DS"
      }
    },
    {
      "cell_type": "code",
      "execution_count": null,
      "metadata": {
        "id": "J-9Cd-G-A24t"
      },
      "outputs": [],
      "source": [
        "!head transactionalDB.csv"
      ]
    },
    {
      "cell_type": "markdown",
      "source": [
        "## ***Step 2: Import the FrequentPatternMining from `geoanalytics.patternmining`***"
      ],
      "metadata": {
        "id": "L2cSivwardCu"
      }
    },
    {
      "cell_type": "code",
      "execution_count": null,
      "metadata": {
        "id": "iYk_dk5BAeiZ"
      },
      "outputs": [],
      "source": [
        "from geoanalytics.patternMining import FrequentPatternMining"
      ]
    },
    {
      "cell_type": "markdown",
      "source": [
        "## ***Step 3: Pass the `inputFile` into the algorithm***"
      ],
      "metadata": {
        "id": "ukQUmvZBrzEL"
      }
    },
    {
      "cell_type": "code",
      "execution_count": null,
      "metadata": {
        "id": "L4bmf8w2AyBP"
      },
      "outputs": [],
      "source": [
        "alg = FrequentPatternMining.FrequentPatternMining(inputFile='transactionalDB.csv')"
      ]
    },
    {
      "cell_type": "markdown",
      "source": [
        "## ***Step 4: Show the database statistics to know the appropriate parameters to mine the patterns***"
      ],
      "metadata": {
        "id": "o7czZPvksCKb"
      }
    },
    {
      "cell_type": "code",
      "execution_count": null,
      "metadata": {
        "id": "6TbTZB-WCRXJ"
      },
      "outputs": [],
      "source": [
        "# Get to know the database statistics and visualization of frequency and transaction length graphs\n",
        "alg.showDBstats()"
      ]
    },
    {
      "cell_type": "markdown",
      "source": [
        "## ***Step 5: Specify the parameter `minSupport` to mine the patterns in database***"
      ],
      "metadata": {
        "id": "gzcLY39PsUAY"
      }
    },
    {
      "cell_type": "code",
      "execution_count": null,
      "metadata": {
        "id": "nieSj4mfCVYc"
      },
      "outputs": [],
      "source": [
        "# More Minimum Support --> less Patterns\n",
        "# Less Minimum Support --> More Patterns\n",
        "alg.run(minSupport=8)"
      ]
    },
    {
      "cell_type": "markdown",
      "source": [
        "## ***Step 6: Save the patterns***"
      ],
      "metadata": {
        "id": "G9Dqwsf4uhXu"
      }
    },
    {
      "cell_type": "code",
      "execution_count": null,
      "metadata": {
        "id": "uF0Qz56-CkJ7"
      },
      "outputs": [],
      "source": [
        "alg.save(outputFile='FrequentPatterns.txt')"
      ]
    },
    {
      "cell_type": "markdown",
      "source": [
        "#### **View the saved frequent patterns**"
      ],
      "metadata": {
        "id": "9bbjdCensUTZ"
      }
    },
    {
      "cell_type": "code",
      "execution_count": null,
      "metadata": {
        "id": "jx72N4VbCoqg"
      },
      "outputs": [],
      "source": [
        "!head FrequentPatterns.txt"
      ]
    },
    {
      "cell_type": "code",
      "source": [],
      "metadata": {
        "id": "NOAIGBAWEEyN"
      },
      "execution_count": null,
      "outputs": []
    }
  ],
  "metadata": {
    "colab": {
      "provenance": [],
      "include_colab_link": true
    },
    "kernelspec": {
      "display_name": "Python 3",
      "name": "python3"
    },
    "language_info": {
      "name": "python"
    }
  },
  "nbformat": 4,
  "nbformat_minor": 0
}